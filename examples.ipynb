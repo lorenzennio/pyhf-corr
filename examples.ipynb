{
 "cells": [
  {
   "cell_type": "markdown",
   "metadata": {},
   "source": [
    "# Treating correlated uncertainties with pyhf\n",
    "\n",
    "[`pyhf`](https://pyhf.readthedocs.io) is based on the [`HistFactory`](https://cds.cern.ch/record/1456844/files/CERN-OPEN-2012-016.pdf) statistical model. This is a very general tool for statistical inference of binned data.\n",
    "\n",
    "One feature that is not included in [`pyhf`](https://pyhf.readthedocs.io), is the correct treatment of arbitrarily correlated uncertainties. The current implementation features only fully (de)correlated uncertainties. \n",
    "\n",
    "The use of this package is to add the option for arbitrarily correlated uncertainties, by a simple pre-processing step of the [pyhf](https://pyhf.readthedocs.io) model. The mathematical background used is simple [principal component analysis (PCA)](https://www.cs.cmu.edu/~elaw/papers/pca.pdf).\n",
    "\n",
    "To account for correlations between parameters, one simply adds a `correlation` field to the [`pyhf`](https://pyhf.readthedocs.io) model. Here we specify a `name`, which will be the new modifier name, the correlated variables `vars`, and the correlation matrix `corr`: \n",
    "\n",
    "```python\n",
    "spec = {\n",
    "    \"channels\" : ..., \n",
    "    \"correlations\": [\n",
    "        {\n",
    "            \"name\": \"corr_1_2\",\n",
    "            \"vars\": [\"unc1\", \"unc2\"],\n",
    "            \"corr\": [[1.0, 0.5], [0.5, 1.]],\n",
    "        }\n",
    "    ]\n",
    "}\n",
    "```\n",
    "\n",
    "By pre-processing the model specification, we obtain a new specification, which is now pyhf compatible and has the correlation correctly implemented:\n",
    "\n",
    "```python\n",
    "new_spec = decorrelate.decorrelate(spec)\n",
    "```\n",
    "We will use the `histosys` modifier for illustration below. The method applies just as well for the `shapesys`, `normsys` and `staterror`.\n",
    "\n",
    "The `lumi, normfactor, shapefactor` modifiers, which contain no data, can only be fully (de)correlated and should be treated in [`pyhf`](https://pyhf.readthedocs.io) directly."
   ]
  },
  {
   "cell_type": "code",
   "execution_count": 34,
   "metadata": {},
   "outputs": [
    {
     "name": "stdout",
     "output_type": "stream",
     "text": [
      "The autoreload extension is already loaded. To reload it, use:\n",
      "  %reload_ext autoreload\n"
     ]
    }
   ],
   "source": [
    "%load_ext autoreload\n",
    "%autoreload 2\n",
    "\n",
    "import pyhf\n",
    "import numpy as np\n",
    "import matplotlib.pyplot as plt \n",
    "import pyhfcorr"
   ]
  },
  {
   "cell_type": "code",
   "execution_count": 35,
   "metadata": {},
   "outputs": [],
   "source": [
    "# let's generate some toy histograms\n",
    "bins = np.arange(11)\n",
    "hist1 = np.array([2. , 3., 6.,  8.,  7., 7., 6., 2., 3., 1.])\n",
    "hist2 = np.array([3. , 6., 9., 12., 15., 9., 6., 3., 3., 2.])"
   ]
  },
  {
   "cell_type": "markdown",
   "metadata": {},
   "source": [
    "## Correlations within sample\n",
    "\n",
    "First, we create a simple [`pyhf`](https://pyhf.readthedocs.io) model with one sample and two `histosys` modifiers."
   ]
  },
  {
   "cell_type": "code",
   "execution_count": 36,
   "metadata": {},
   "outputs": [],
   "source": [
    "samples = [\n",
    "    {\n",
    "        \"name\": \"sample1\",\n",
    "        \"data\": list(2*hist2),\n",
    "        \"modifiers\": [\n",
    "            {\"name\": \"mu\", \"type\": \"normfactor\", \"data\" : None},\n",
    "            {\n",
    "                \"name\": \"u1\",\n",
    "                \"type\": \"histosys\",\n",
    "                \"data\": {\n",
    "                    \"lo_data\": list(2*hist2-hist1),\n",
    "                    \"hi_data\": list(2*hist2+hist1)\n",
    "                }\n",
    "            },\n",
    "            {\n",
    "                \"name\": \"u2\",\n",
    "                \"type\": \"histosys\",\n",
    "                \"data\": {\n",
    "                    \"lo_data\": list(2*hist2-hist2),\n",
    "                    \"hi_data\": list(2*hist2+hist2)\n",
    "                }\n",
    "            }\n",
    "        ],\n",
    "        \n",
    "    },\n",
    "]\n",
    "spec = {\"channels\" : [{\"name\" : \"singlechannel\", \"samples\" : samples}]}\n",
    "model = pyhf.Model(spec)\n"
   ]
  },
  {
   "cell_type": "markdown",
   "metadata": {},
   "source": [
    "As a first example, we fully correlate `u1` and `u2` by adding a `correlations` entry and using `pyhfcorr.decorrelate.decorrelate` to obtain the [`pyhf`](https://pyhf.readthedocs.io) compatible spec:"
   ]
  },
  {
   "cell_type": "code",
   "execution_count": 37,
   "metadata": {},
   "outputs": [
    {
     "name": "stdout",
     "output_type": "stream",
     "text": [
      "Processing correlations ...\n"
     ]
    },
    {
     "name": "stderr",
     "output_type": "stream",
     "text": [
      "/filer/z-sv-pool12c/l/Lorenz.Gaertner/pyhf-corr/src/pyhfcorr/decorrelate.py:102: UserWarning: Modifier corr[1] is redundant and is not added.\n",
      "  warnings.warn(f\"Modifier {name} is redundant and is not added.\")\n"
     ]
    },
    {
     "data": {
      "text/plain": [
       "{'channels': [{'name': 'singlechannel',\n",
       "   'samples': [{'name': 'sample1',\n",
       "     'data': [6.0, 12.0, 18.0, 24.0, 30.0, 18.0, 12.0, 6.0, 6.0, 4.0],\n",
       "     'modifiers': [{'name': 'mu', 'type': 'normfactor', 'data': None},\n",
       "      {'type': 'histosys',\n",
       "       'data': {'lo_data': [1.0, 3.0, 3.0, 4.0, 8.0, 2.0, 0.0, 1.0, 0.0, 1.0],\n",
       "        'hi_data': [11.0,\n",
       "         21.0,\n",
       "         33.0,\n",
       "         44.0,\n",
       "         52.0,\n",
       "         34.0,\n",
       "         24.0,\n",
       "         11.0,\n",
       "         12.0,\n",
       "         7.0]},\n",
       "       'name': 'corr[0]'}]}]}]}"
      ]
     },
     "execution_count": 37,
     "metadata": {},
     "output_type": "execute_result"
    }
   ],
   "source": [
    "spec = {\n",
    "    \"channels\" : [{\"name\" : \"singlechannel\", \"samples\" : samples}], \n",
    "    \"correlations\": [\n",
    "        {\n",
    "            \"name\": \"corr\",\n",
    "            \"vars\": [\"u1\", \"u2\"],\n",
    "            \"corr\": [[1., 1.], [1., 1.]],\n",
    "        }\n",
    "    ]}\n",
    "new_spec = pyhfcorr.decorrelate.decorrelate(spec)\n",
    "new_model = pyhf.Model(new_spec)\n",
    "new_spec"
   ]
  },
  {
   "cell_type": "markdown",
   "metadata": {},
   "source": [
    "We see that one parameter (`corr[0]`) was added to the model. In general, the number of parameters is invariant under PCA, but since we have a full correlation here, `pyhfcorr` does not add the redundant parameter `corr[1]`, and outputs a warning.\n",
    "\n",
    "We can check that the data of the `corr[0]`modifier matches our expectations:"
   ]
  },
  {
   "cell_type": "code",
   "execution_count": 38,
   "metadata": {},
   "outputs": [
    {
     "data": {
      "text/plain": [
       "array([1., 3., 3., 4., 8., 2., 0., 1., 0., 1.])"
      ]
     },
     "execution_count": 38,
     "metadata": {},
     "output_type": "execute_result"
    }
   ],
   "source": [
    "# lo_data\n",
    "2*hist2-hist1-hist2"
   ]
  },
  {
   "cell_type": "code",
   "execution_count": 39,
   "metadata": {},
   "outputs": [
    {
     "data": {
      "text/plain": [
       "array([11., 21., 33., 44., 52., 34., 24., 11., 12.,  7.])"
      ]
     },
     "execution_count": 39,
     "metadata": {},
     "output_type": "execute_result"
    }
   ],
   "source": [
    "# hi_data\n",
    "2*hist2+hist1+hist2"
   ]
  },
  {
   "cell_type": "code",
   "execution_count": 40,
   "metadata": {},
   "outputs": [
    {
     "data": {
      "image/png": "[encoded data removed]",
      "text/plain": [
       "<Figure size 640x480 with 1 Axes>"
      ]
     },
     "metadata": {},
     "output_type": "display_data"
    }
   ],
   "source": [
    "plt.stairs(2*hist2+hist1+hist2, bins, fill = True, label = \"2*hist2+hist1+hist2\")\n",
    "plt.stairs(2*hist2, bins, fill=True, label = \"nominal\")\n",
    "plt.stairs(2*hist2-hist1-hist2, bins, fill=True, label = \"2*hist2-hist1-hist2\")\n",
    "\n",
    "initial_parameters = new_model.config.suggested_init()\n",
    "\n",
    "# we can set corr[0] to (-1, 0, +1) to check the agreement with the expectation\n",
    "initial_parameters[0] = -1.\n",
    "\n",
    "plt.stairs(new_model.expected_data(initial_parameters, include_auxdata=False), bins, linewidth=2, color='r')\n",
    "\n",
    "plt.legend()\n",
    "plt.show()"
   ]
  },
  {
   "cell_type": "markdown",
   "metadata": {},
   "source": [
    "## Correlations across channels/samples\n",
    "\n",
    "We can also correlate parameters across different channels and/or samples:"
   ]
  },
  {
   "cell_type": "code",
   "execution_count": 41,
   "metadata": {},
   "outputs": [],
   "source": [
    "samples = [\n",
    "    {\n",
    "        \"name\": \"sample1\",\n",
    "        \"data\": list(hist1),\n",
    "        \"modifiers\": [\n",
    "            {\"name\": \"mu\", \"type\": \"normfactor\", \"data\" : None},\n",
    "            {\n",
    "                \"name\": \"u1\",\n",
    "                \"type\": \"histosys\",\n",
    "                \"data\": {\n",
    "                    \"lo_data\": list(hist1-hist1),\n",
    "                    \"hi_data\": list(hist1+hist1)\n",
    "                }\n",
    "            }\n",
    "        ],\n",
    "        \n",
    "    },    \n",
    "    {\n",
    "        \"name\": \"sample2\",\n",
    "        \"data\": list(hist2),\n",
    "        \"modifiers\": [\n",
    "            {\n",
    "                \"name\": \"u2\",\n",
    "                \"type\": \"histosys\",\n",
    "                \"data\": {\n",
    "                    \"lo_data\": list(hist2-hist1),\n",
    "                    \"hi_data\": list(hist2+hist1)\n",
    "                }\n",
    "            }\n",
    "        ],\n",
    "        \n",
    "    },\n",
    "    \n",
    "]\n",
    "spec = {\"channels\" : [{\"name\" : \"corrchannel\", \"samples\" : samples}]}\n",
    "model = pyhf.Model(spec)\n"
   ]
  },
  {
   "cell_type": "code",
   "execution_count": 42,
   "metadata": {},
   "outputs": [
    {
     "name": "stdout",
     "output_type": "stream",
     "text": [
      "Processing correlations ...\n"
     ]
    },
    {
     "data": {
      "text/plain": [
       "{'channels': [{'name': 'singlechannel',\n",
       "   'samples': [{'name': 'sample1',\n",
       "     'data': [2.0, 3.0, 6.0, 8.0, 7.0, 7.0, 6.0, 2.0, 3.0, 1.0],\n",
       "     'modifiers': [{'name': 'mu', 'type': 'normfactor', 'data': None},\n",
       "      {'type': 'histosys',\n",
       "       'data': {'lo_data': [0.0, 0.0, 0.0, 0.0, 0.0, 0.0, 0.0, 0.0, 0.0, 0.0],\n",
       "        'hi_data': [4.0, 6.0, 12.0, 16.0, 14.0, 14.0, 12.0, 4.0, 6.0, 2.0]},\n",
       "       'name': 'corr[0]'}]},\n",
       "    {'name': 'sample2',\n",
       "     'data': [3.0, 6.0, 9.0, 12.0, 15.0, 9.0, 6.0, 3.0, 3.0, 2.0],\n",
       "     'modifiers': [{'type': 'histosys',\n",
       "       'data': {'lo_data': [1.0, 3.0, 3.0, 4.0, 8.0, 2.0, 0.0, 1.0, 0.0, 1.0],\n",
       "        'hi_data': [5.0, 9.0, 15.0, 20.0, 22.0, 16.0, 12.0, 5.0, 6.0, 3.0]},\n",
       "       'name': 'corr[0]'}]}]}]}"
      ]
     },
     "execution_count": 42,
     "metadata": {},
     "output_type": "execute_result"
    }
   ],
   "source": [
    "spec = {\n",
    "    \"channels\" : [{\"name\" : \"singlechannel\", \"samples\" : samples}], \n",
    "    \"correlations\": [\n",
    "        {\n",
    "            \"name\": \"corr\",\n",
    "            \"vars\": [\"u1\", \"u2\"],\n",
    "            \"corr\": [[1., 1.], [1., 1.]],\n",
    "        }\n",
    "    ]}\n",
    "\n",
    "new_spec = pyhfcorr.decorrelate.decorrelate(spec)\n",
    "new_model = pyhf.Model(new_spec)\n",
    "new_spec"
   ]
  },
  {
   "cell_type": "markdown",
   "metadata": {},
   "source": [
    "In this case, we see that one `corr[0]` modifier was added to each of the samples. Since they have the same name, [`pyhf`](https://pyhf.readthedocs.io) will treat them as fully correlated."
   ]
  },
  {
   "cell_type": "code",
   "execution_count": 43,
   "metadata": {},
   "outputs": [
    {
     "data": {
      "image/png": "[encoded data removed]",
      "text/plain": [
       "<Figure size 640x480 with 1 Axes>"
      ]
     },
     "metadata": {},
     "output_type": "display_data"
    }
   ],
   "source": [
    "plt.stairs(hist1 + hist1 + hist2 + hist1, bins, fill = True, label = \"hist1 + hist1 + hist2 + hist1\")\n",
    "plt.stairs(hist2 + hist1, bins, fill = True, label = \"nominal\")\n",
    "plt.stairs(hist1 - hist1 + hist2 - hist1, bins, fill=True, label = \"hist1 - hist1 + hist2 - hist1\")\n",
    "\n",
    "initial_parameters = new_model.config.suggested_init()\n",
    "\n",
    "# we can set corr[0] to (-1, 0, +1) to check the agreement with the expectation\n",
    "initial_parameters[0] = 1.\n",
    "\n",
    "plt.stairs(new_model.expected_data(initial_parameters, include_auxdata=False), bins, linewidth=2, color='r')\n",
    "\n",
    "plt.legend()\n",
    "plt.show()"
   ]
  },
  {
   "cell_type": "markdown",
   "metadata": {},
   "source": [
    "## A slightly more complicated example\n",
    "\n"
   ]
  },
  {
   "cell_type": "code",
   "execution_count": 57,
   "metadata": {},
   "outputs": [],
   "source": [
    "# add correlated parameters to pyhf model\n",
    "samples = [\n",
    "    {\n",
    "        \"name\": \"sample1\",\n",
    "        \"data\": list(hist1),\n",
    "        \"modifiers\": [\n",
    "            {\"name\": \"mu\", \"type\": \"normfactor\", \"data\" : None},\n",
    "            {\n",
    "                \"name\": \"u1\",\n",
    "                \"type\": \"histosys\",\n",
    "                \"data\": {\n",
    "                    \"lo_data\": list(hist1-hist1/2),\n",
    "                    \"hi_data\": list(hist1+hist1/2)\n",
    "                }\n",
    "            },\n",
    "            {\n",
    "                \"name\": \"u12\",\n",
    "                \"type\": \"histosys\",\n",
    "                \"data\": {\n",
    "                    \"lo_data\": list(hist1-hist2/2),\n",
    "                    \"hi_data\": list(hist1+hist2/2)\n",
    "                }\n",
    "            }\n",
    "        ],\n",
    "        \n",
    "    },    \n",
    "    {\n",
    "        \"name\": \"sample2\",\n",
    "        \"data\": list(hist2),\n",
    "        \"modifiers\": [\n",
    "            {\n",
    "                \"name\": \"u1\",\n",
    "                \"type\": \"histosys\",\n",
    "                \"data\": {\n",
    "                    \"lo_data\": list(hist2-hist1/3),\n",
    "                    \"hi_data\": list(hist2+hist1/3)\n",
    "                }\n",
    "            },\n",
    "            {\n",
    "                \"name\": \"u2\",\n",
    "                \"type\": \"histosys\",\n",
    "                \"data\": {\n",
    "                    \"lo_data\": list(hist2-hist2/3),\n",
    "                    \"hi_data\": list(hist2+hist2/3)\n",
    "                }\n",
    "            }\n",
    "        ],\n",
    "        \n",
    "    },\n",
    "    \n",
    "]\n",
    "spec = {\"channels\" : [{\"name\" : \"corrchannel\", \"samples\" : samples}]}\n",
    "model = pyhf.Model(spec)\n"
   ]
  },
  {
   "cell_type": "code",
   "execution_count": 61,
   "metadata": {},
   "outputs": [
    {
     "name": "stdout",
     "output_type": "stream",
     "text": [
      "Processing correlations ...\n"
     ]
    },
    {
     "data": {
      "text/plain": [
       "{'channels': [{'name': 'singlechannel',\n",
       "   'samples': [{'name': 'sample1',\n",
       "     'data': [2.0, 3.0, 6.0, 8.0, 7.0, 7.0, 6.0, 2.0, 3.0, 1.0],\n",
       "     'modifiers': [{'name': 'mu', 'type': 'normfactor', 'data': None},\n",
       "      {'type': 'histosys',\n",
       "       'data': {'lo_data': [-0.4999999999999991,\n",
       "         -1.4999999999999982,\n",
       "         -1.4999999999999982,\n",
       "         -1.9999999999999964,\n",
       "         -3.9999999999999964,\n",
       "         -0.9999999999999982,\n",
       "         8.881784197001252e-16,\n",
       "         -0.4999999999999991,\n",
       "         4.440892098500626e-16,\n",
       "         -0.49999999999999956],\n",
       "        'hi_data': [4.499999999999999,\n",
       "         7.499999999999998,\n",
       "         13.499999999999998,\n",
       "         17.999999999999996,\n",
       "         17.999999999999996,\n",
       "         14.999999999999998,\n",
       "         12.0,\n",
       "         4.499999999999999,\n",
       "         6.0,\n",
       "         2.4999999999999996]},\n",
       "       'name': 'corr[0]'},\n",
       "      {'type': 'histosys',\n",
       "       'data': {'lo_data': [2.000000001140177,\n",
       "         2.9999999936754413,\n",
       "         6.00000000342053,\n",
       "         8.000000004560707,\n",
       "         6.999999979886147,\n",
       "         7.000000012025442,\n",
       "         6.0000000194901775,\n",
       "         2.000000001140177,\n",
       "         3.0000000097450887,\n",
       "         0.9999999978918138],\n",
       "        'hi_data': [1.9999999988598234,\n",
       "         3.0000000063245587,\n",
       "         5.99999999657947,\n",
       "         7.9999999954392935,\n",
       "         7.000000020113853,\n",
       "         6.999999987974558,\n",
       "         5.9999999805098225,\n",
       "         1.9999999988598234,\n",
       "         2.9999999902549113,\n",
       "         1.0000000021081863]},\n",
       "       'name': 'corr[1]'},\n",
       "      {'type': 'histosys',\n",
       "       'data': {'lo_data': [2.000000003248363,\n",
       "         3.0000000063245587,\n",
       "         6.000000009745088,\n",
       "         8.000000012993452,\n",
       "         7.000000015725313,\n",
       "         7.0000000099172555,\n",
       "         6.00000000684106,\n",
       "         2.000000003248363,\n",
       "         3.00000000342053,\n",
       "         1.0000000021081863],\n",
       "        'hi_data': [1.999999996751637,\n",
       "         2.9999999936754413,\n",
       "         5.999999990254912,\n",
       "         7.999999987006548,\n",
       "         6.999999984274687,\n",
       "         6.9999999900827445,\n",
       "         5.99999999315894,\n",
       "         1.999999996751637,\n",
       "         2.99999999657947,\n",
       "         0.9999999978918138]},\n",
       "       'name': 'corr[2]'}]},\n",
       "    {'name': 'sample2',\n",
       "     'data': [3.0, 6.0, 9.0, 12.0, 15.0, 9.0, 6.0, 3.0, 3.0, 2.0],\n",
       "     'modifiers': [{'type': 'histosys',\n",
       "       'data': {'lo_data': [3.333333333333333,\n",
       "         6.999999999999999,\n",
       "         9.999999999999998,\n",
       "         13.333333333333332,\n",
       "         17.666666666666664,\n",
       "         9.666666666666664,\n",
       "         5.999999999999999,\n",
       "         3.333333333333333,\n",
       "         2.9999999999999996,\n",
       "         2.333333333333333],\n",
       "        'hi_data': [2.666666666666667,\n",
       "         5.000000000000001,\n",
       "         8.000000000000002,\n",
       "         10.666666666666668,\n",
       "         12.333333333333334,\n",
       "         8.333333333333336,\n",
       "         6.000000000000001,\n",
       "         2.666666666666667,\n",
       "         3.0000000000000004,\n",
       "         1.6666666666666672]},\n",
       "       'name': 'corr[0]'},\n",
       "      {'type': 'histosys',\n",
       "       'data': {'lo_data': [3.0000000179699415,\n",
       "         6.000000030203275,\n",
       "         9.000000053909826,\n",
       "         12.000000071879766,\n",
       "         15.000000072639885,\n",
       "         9.000000059646434,\n",
       "         6.000000047413099,\n",
       "         3.0000000179699415,\n",
       "         3.0000000237065496,\n",
       "         2.0000000100677586],\n",
       "        'hi_data': [2.9999999820300585,\n",
       "         5.999999969796725,\n",
       "         8.999999946090174,\n",
       "         11.999999928120234,\n",
       "         14.999999927360115,\n",
       "         8.999999940353566,\n",
       "         5.999999952586901,\n",
       "         2.9999999820300585,\n",
       "         2.9999999762934504,\n",
       "         1.9999999899322416]},\n",
       "       'name': 'corr[1]'},\n",
       "      {'type': 'histosys',\n",
       "       'data': {'lo_data': [3.0000000025099096,\n",
       "         6.000000004905041,\n",
       "         9.000000007529728,\n",
       "         12.000000010039638,\n",
       "         15.000000012205213,\n",
       "         9.000000007644507,\n",
       "         6.000000005249375,\n",
       "         3.0000000025099096,\n",
       "         3.0000000026246876,\n",
       "         2.0000000016350135],\n",
       "        'hi_data': [2.9999999974900904,\n",
       "         5.999999995094959,\n",
       "         8.999999992470272,\n",
       "         11.999999989960362,\n",
       "         14.999999987794787,\n",
       "         8.999999992355493,\n",
       "         5.999999994750625,\n",
       "         2.9999999974900904,\n",
       "         2.9999999973753124,\n",
       "         1.9999999983649863]},\n",
       "       'name': 'corr[2]'}]}]}]}"
      ]
     },
     "execution_count": 61,
     "metadata": {},
     "output_type": "execute_result"
    }
   ],
   "source": [
    "spec = {\n",
    "    \"channels\" : [{\"name\" : \"singlechannel\", \"samples\" : samples}], \n",
    "    \"correlations\": [\n",
    "        {\n",
    "            \"name\": \"corr\",\n",
    "            \"vars\": [\"u1\", \"u12\", \"u2\"],\n",
    "            \"corr\": [[1., 1., -1.], [1., 1., -1.], [-1., -1., 1.]],\n",
    "        }\n",
    "    ]}\n",
    "\n",
    "new_spec = pyhfcorr.decorrelate.decorrelate(spec)\n",
    "new_model = pyhf.Model(new_spec)\n",
    "new_spec"
   ]
  },
  {
   "cell_type": "code",
   "execution_count": 66,
   "metadata": {},
   "outputs": [
    {
     "data": {
      "image/png": "[encoded data removed]",
      "text/plain": [
       "<Figure size 640x480 with 1 Axes>"
      ]
     },
     "metadata": {},
     "output_type": "display_data"
    }
   ],
   "source": [
    "plt.stairs(hist1 + (hist1 + hist2)/2 + \n",
    "           hist2 + (hist1 - hist2)/3, \n",
    "           bins, fill = True, label = \"all up\")\n",
    "plt.stairs(hist2 + hist1, bins, fill = True, label = \"nominal\")\n",
    "plt.stairs(hist1 - (hist1 + hist2)/2 + \n",
    "           hist2 - (hist1 - hist2)/3, \n",
    "           bins, fill = True, label = \"all down\")\n",
    "\n",
    "initial_parameters = new_model.config.suggested_init()\n",
    "\n",
    "# we can set corr[0] to (-1, 0, +1) to check the agreement with the expectation\n",
    "initial_parameters[0] = 1.\n",
    "\n",
    "plt.stairs(new_model.expected_data(initial_parameters, include_auxdata=False), bins, linewidth=2, color='r')\n",
    "\n",
    "plt.legend()\n",
    "plt.show()"
   ]
  },
  {
   "cell_type": "code",
   "execution_count": null,
   "metadata": {},
   "outputs": [],
   "source": []
  }
 ],
 "metadata": {
  "kernelspec": {
   "display_name": "Python 3",
   "language": "python",
   "name": "python3"
  },
  "language_info": {
   "codemirror_mode": {
    "name": "ipython",
    "version": 3
   },
   "file_extension": ".py",
   "mimetype": "text/x-python",
   "name": "python",
   "nbconvert_exporter": "python",
   "pygments_lexer": "ipython3",
   "version": "3.10.0"
  }
 },
 "nbformat": 4,
 "nbformat_minor": 2
}
