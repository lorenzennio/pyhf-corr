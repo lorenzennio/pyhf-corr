{
 "cells": [
  {
   "cell_type": "code",
   "execution_count": 1,
   "metadata": {},
   "outputs": [],
   "source": [
    "import pyhf\n",
    "import numpy as np\n",
    "import matplotlib.pyplot as plt "
   ]
  },
  {
   "cell_type": "code",
   "execution_count": 2,
   "metadata": {},
   "outputs": [],
   "source": [
    "bins = np.arange(11)\n",
    "bin_cents = (bins[1:]+bins[:-1])/2\n",
    "\n",
    "hist1 = np.array([1.5, 3., 6., 7.5, 6.3, 6.6, 5.5, 2.5, 3. , 1.5])\n",
    "hist1_err = np.array([0.4 , 0.4 , 0.3 , 0.2 , 0.15, 0.4 , 0.45, 0.5 , 0.3 , 0.35])\n",
    "hist2 = np.array([3. , 6., 9., 12., 15., 9. , 6., 3. , 3.3, 2.15])\n",
    "hist2_err = np.array([1. , 1. , 3. , 2. , 2., 1. , 2., 2. , 1. , 1.])\n",
    "\n",
    "\n",
    "data = np.array([ 4, 17, 26, 23, 34, 23, 21,  7,  8,  4])"
   ]
  },
  {
   "cell_type": "code",
   "execution_count": 3,
   "metadata": {},
   "outputs": [],
   "source": [
    "samples = [\n",
    "    {\n",
    "        \"name\": \"sample1\",\n",
    "        \"data\": list(hist2/2),\n",
    "        \"modifiers\": [\n",
    "            {\"name\": \"mu1\", \"type\": \"normfactor\", \"data\" : None},\n",
    "            {\n",
    "                \"name\": \"hun1\",\n",
    "                \"type\": \"histosys\",\n",
    "                \"data\": {\n",
    "                    \"lo_data\": list(hist2/2 - hist1/2),\n",
    "                    \"hi_data\": list(hist2/2 + hist1/2)\n",
    "                }\n",
    "            }\n",
    "        ],\n",
    "    },\n",
    "    {\n",
    "        \"name\": \"sample2\",\n",
    "        \"data\": list(hist2/2),\n",
    "        \"modifiers\": [\n",
    "            {\"name\": \"mu2\", \"type\": \"normfactor\", \"data\" : None},\n",
    "            {\n",
    "                \"name\": \"hun1\",\n",
    "                \"type\": \"histosys\",\n",
    "                \"data\": {\n",
    "                    \"lo_data\": list(hist2/2 - hist1/2),\n",
    "                    \"hi_data\": list(hist2/2 + hist1/2)\n",
    "                }\n",
    "            }\n",
    "        ],\n",
    "    },\n",
    "]\n",
    "spec = {\"channels\" : [{\"name\" : \"singlechannel\", \"samples\" : samples}]}\n",
    "\n",
    "# info: the `poi_name=None` is nescessary here since we don't want to do a hypothesis test\n",
    "model = pyhf.Model(spec, poi_name=None)"
   ]
  },
  {
   "cell_type": "code",
   "execution_count": 4,
   "metadata": {},
   "outputs": [
    {
     "name": "stdout",
     "output_type": "stream",
     "text": [
      "[1, 1.0, 1.0]\n"
     ]
    },
    {
     "data": {
      "image/png": "[encoded data removed]",
      "text/plain": [
       "<Figure size 640x480 with 1 Axes>"
      ]
     },
     "metadata": {},
     "output_type": "display_data"
    }
   ],
   "source": [
    "plt.stairs(hist1+hist2, bins, baseline=hist2, fill = True)\n",
    "plt.stairs(hist2, bins, fill=True)\n",
    "plt.stairs(hist2-hist1, bins, fill=True)\n",
    "\n",
    "\n",
    "initial_parameters = model.config.suggested_init()\n",
    "initial_parameters[0] = 1\n",
    "# initial_parameters[1] = 1\n",
    "\n",
    "plt.stairs(model.expected_data(initial_parameters, include_auxdata=False), bins, linewidth=2, color='r')\n",
    "# plt.errorbar(bin_cents, model.config.auxdata, yerr=np.sqrt(model.config.auxdata), fmt='o')\n",
    "print(initial_parameters)\n"
   ]
  },
  {
   "cell_type": "code",
   "execution_count": 78,
   "metadata": {},
   "outputs": [],
   "source": [
    "from copy import deepcopy\n",
    "\n",
    "def _pca(corr, return_rot=False):\n",
    "    \"\"\"Principal Component analysis, moving to a space where the covariance matrix is diagonal\n",
    "    https://www.cs.cmu.edu/~elaw/papers/pca.pdf\n",
    "\n",
    "    Args:\n",
    "        cov (array): Correlation matrix\n",
    "\n",
    "    Returns:\n",
    "        array: matrix of column wise error vectors (eigenvectors * sqrt(eigenvalues); sqrt(eigenvalues) = std)\n",
    "    \"\"\"\n",
    "    svd = np.linalg.svd(corr)\n",
    "    uvec = svd[0] @ np.sqrt(np.diag(svd[1]))\n",
    "    if return_rot:\n",
    "        return uvec, svd[0]\n",
    "    return uvec\n",
    "\n",
    "def validate(corr):\n",
    "    for c in corr:\n",
    "        shape = np.shape(c[\"corr\"])\n",
    "        if len(shape) != 2:\n",
    "            raise ValueError(\"Correlation matrix must be 2-dimensional.\")\n",
    "        if shape[0] != shape[1]:\n",
    "            raise ValueError(\"Correlation matrix must be square.\")\n",
    "        if len(c[\"vars\"]) != len(c[\"corr\"]):\n",
    "            raise ValueError(\"Number of variables does not match dimension of correlation matrix\")\n",
    "        \n",
    "        \n",
    "def get_coords(var_name, spec):\n",
    "    for ich, ch in enumerate(spec):\n",
    "        for isa, sa in enumerate(ch[\"samples\"]):\n",
    "            for imo, mo in enumerate(sa[\"modifiers\"]):\n",
    "                if mo[\"name\"] == var_name:\n",
    "                    return ich, isa, imo\n",
    "    \n",
    "\n",
    "def decorrelate(spec):\n",
    "    if \"correlations\" in spec.keys():\n",
    "        print(\"correlation found\")\n",
    "        \n",
    "        validate(spec[\"correlations\"])\n",
    "        \n",
    "        spec = deepcopy(spec)\n",
    "        \n",
    "        for corr in spec[\"correlations\"]:\n",
    "            \n",
    "            # compute decorrelation \n",
    "            uvec = _pca(corr[\"corr\"])\n",
    "            \n",
    "            # get channel, sample and modifier index for each variable\n",
    "            coords = []\n",
    "            for var in corr[\"vars\"]:\n",
    "                coords.append(get_coords(var, spec[\"channels\"]))\n",
    "            print(coords)\n",
    "            \n",
    "            ich = coords[0][0]\n",
    "            isa = coords[0][1]\n",
    "            imo = [c[2] for c in coords]\n",
    "            mod_type = spec[\"channels\"][ich][\"samples\"][isa][\"modifiers\"][imo[0]][\"type\"]\n",
    "            \n",
    "            # check if all vars in one channel, sample\n",
    "            for co in coords:\n",
    "                if co[0] != ich or co[1] != isa:\n",
    "                    raise ValueError(\"All variables must be in the same channel and sample.\")\n",
    "            \n",
    "            #check if all modifiers have the same type\n",
    "            for i in imo:\n",
    "                if spec[\"channels\"][ich][\"samples\"][isa][\"modifiers\"][i][\"type\"] != mod_type:\n",
    "                    raise ValueError(\"All modifiers must have the same type.\")\n",
    "                \n",
    "            nom = spec[\"channels\"][ich][\"samples\"][isa][\"data\"]\n",
    "            lo_shifts = [np.subtract(spec[\"channels\"][ich][\"samples\"][isa][\"modifiers\"][i][\"data\"][\"lo_data\"], nom) for i in imo]\n",
    "            hi_shifts = [np.subtract(spec[\"channels\"][ich][\"samples\"][isa][\"modifiers\"][i][\"data\"][\"hi_data\"], nom) for i in imo]\n",
    "            \n",
    "            # compute new high and low modifications for eigenvector\n",
    "            for i, uv in enumerate(uvec.T):\n",
    "                new_lo = np.sum(\n",
    "                    [nom] + [np.multiply(u, s) for u, s in zip(uv, lo_shifts)],\n",
    "                    axis=0\n",
    "                )\n",
    "\n",
    "                new_hi = np.sum(\n",
    "                    [nom] + [np.multiply(u, s) for u, s in zip(uv, hi_shifts)],\n",
    "                    axis=0\n",
    "                )\n",
    "                \n",
    "                #add new modifier\n",
    "                spec[\"channels\"][ich][\"samples\"][isa][\"modifiers\"].append(\n",
    "                    {\n",
    "                        \"name\": corr[\"name\"]+str(i),\n",
    "                        \"type\": mod_type,\n",
    "                        \"data\": {\n",
    "                            \"lo_data\": list(new_lo),\n",
    "                            \"hi_data\": list(new_hi)\n",
    "                        }\n",
    "                    }\n",
    "                )\n",
    "            \n",
    "            #rm old modifier\n",
    "            new_modifiers = []\n",
    "            for m in spec[\"channels\"][0][\"samples\"][0][\"modifiers\"]:\n",
    "                if m[\"name\"] not in corr[\"vars\"]:\n",
    "                    new_modifiers.append(m)\n",
    "        \n",
    "        spec[\"channels\"][ich][\"samples\"][isa][\"modifiers\"] = new_modifiers\n",
    "        \n",
    "        del spec[\"correlations\"]\n",
    "        \n",
    "    return spec"
   ]
  },
  {
   "cell_type": "code",
   "execution_count": 79,
   "metadata": {},
   "outputs": [],
   "source": [
    "# add correlated parameters to pyhf model\n",
    "samples = [\n",
    "    {\n",
    "        \"name\": \"sample1\",\n",
    "        \"data\": list(hist2),\n",
    "        \"modifiers\": [\n",
    "            {\"name\": \"mu\", \"type\": \"normfactor\", \"data\" : None},\n",
    "            {\n",
    "                \"name\": \"u1\",\n",
    "                \"type\": \"histosys\",\n",
    "                \"data\": {\n",
    "                    \"lo_data\": list(hist2-hist1),\n",
    "                    \"hi_data\": list(hist2+hist1)\n",
    "                }\n",
    "            },\n",
    "            {\n",
    "                \"name\": \"u2\",\n",
    "                \"type\": \"histosys\",\n",
    "                \"data\": {\n",
    "                    \"lo_data\": list(hist2-hist2),\n",
    "                    \"hi_data\": list(hist2+hist2)\n",
    "                }\n",
    "            }\n",
    "        ],\n",
    "        \n",
    "    },\n",
    "]\n",
    "spec = {\"channels\" : [{\"name\" : \"singlechannel\", \"samples\" : samples}]}\n",
    "model = pyhf.Model(spec)\n"
   ]
  },
  {
   "cell_type": "code",
   "execution_count": 80,
   "metadata": {},
   "outputs": [
    {
     "name": "stdout",
     "output_type": "stream",
     "text": [
      "correlation found\n",
      "[(0, 0, 1), (0, 0, 2)]\n"
     ]
    },
    {
     "data": {
      "text/plain": [
       "{'channels': [{'name': 'singlechannel',\n",
       "   'samples': [{'name': 'sample1',\n",
       "     'data': [3.0, 6.0, 9.0, 12.0, 15.0, 9.0, 6.0, 3.0, 3.3, 2.15],\n",
       "     'modifiers': [{'name': 'mu', 'type': 'normfactor', 'data': None},\n",
       "      {'name': 'corr0',\n",
       "       'type': 'histosys',\n",
       "       'data': {'lo_data': [7.5,\n",
       "         15.0,\n",
       "         24.0,\n",
       "         31.499999999999996,\n",
       "         36.3,\n",
       "         24.599999999999998,\n",
       "         17.5,\n",
       "         8.5,\n",
       "         9.599999999999998,\n",
       "         5.799999999999999],\n",
       "        'hi_data': [-1.4999999999999996,\n",
       "         -2.999999999999999,\n",
       "         -5.999999999999998,\n",
       "         -7.499999999999997,\n",
       "         -6.299999999999999,\n",
       "         -6.599999999999998,\n",
       "         -5.499999999999998,\n",
       "         -2.499999999999999,\n",
       "         -2.999999999999999,\n",
       "         -1.4999999999999996]}},\n",
       "      {'name': 'corr1',\n",
       "       'type': 'histosys',\n",
       "       'data': {'lo_data': [3.0,\n",
       "         6.0,\n",
       "         9.0,\n",
       "         12.0,\n",
       "         15.0,\n",
       "         9.0,\n",
       "         6.0,\n",
       "         3.0,\n",
       "         3.3,\n",
       "         2.15],\n",
       "        'hi_data': [3.0,\n",
       "         6.0,\n",
       "         9.0,\n",
       "         12.0,\n",
       "         15.0,\n",
       "         9.0,\n",
       "         6.0,\n",
       "         3.0,\n",
       "         3.3,\n",
       "         2.15]}}]}]}]}"
      ]
     },
     "execution_count": 80,
     "metadata": {},
     "output_type": "execute_result"
    }
   ],
   "source": [
    "spec = {\n",
    "    \"channels\" : [{\"name\" : \"singlechannel\", \"samples\" : samples}], \n",
    "    \"correlations\": [\n",
    "        {\n",
    "            \"name\": \"corr\",\n",
    "            \"vars\": [\"u1\", \"u2\"],\n",
    "            \"corr\": [[1., 1.], [1., 1.]],\n",
    "        }\n",
    "    ]}\n",
    "new_spec = decorrelate(spec)\n",
    "new_model = pyhf.Model(new_spec)\n",
    "new_spec"
   ]
  },
  {
   "cell_type": "code",
   "execution_count": 83,
   "metadata": {},
   "outputs": [
    {
     "data": {
      "text/plain": [
       "<matplotlib.legend.Legend at 0x7f210554bc10>"
      ]
     },
     "execution_count": 83,
     "metadata": {},
     "output_type": "execute_result"
    },
    {
     "data": {
      "image/png": "[encoded data removed]",
      "text/plain": [
       "<Figure size 640x480 with 1 Axes>"
      ]
     },
     "metadata": {},
     "output_type": "display_data"
    }
   ],
   "source": [
    "plt.stairs(hist2+hist1+hist2, bins, fill = True, label = 'up up')\n",
    "plt.stairs(hist2+hist2, bins, fill = True, label = '-- up')\n",
    "plt.stairs(hist2+hist1, bins, fill = True, label = 'up --')\n",
    "plt.stairs(hist2, bins, fill=True, label = '-- --')\n",
    "plt.stairs(hist2-hist1, bins, fill=True, label = 'dn --')\n",
    "plt.stairs(hist2-hist2, bins, fill=True, label = '-- dn')\n",
    "plt.stairs(hist2-hist1-hist2, bins, fill=True, label = 'dn dn')\n",
    "\n",
    "initial_parameters = new_model.config.suggested_init()\n",
    "initial_parameters[0] = 0.\n",
    "initial_parameters[1] = 0.\n",
    "\n",
    "plt.stairs(new_model.expected_data(initial_parameters, include_auxdata=False), bins, linewidth=2, color='r')\n",
    "\n",
    "plt.legend()"
   ]
  },
  {
   "cell_type": "code",
   "execution_count": null,
   "metadata": {},
   "outputs": [],
   "source": []
  },
  {
   "cell_type": "code",
   "execution_count": null,
   "metadata": {},
   "outputs": [],
   "source": []
  }
 ],
 "metadata": {
  "kernelspec": {
   "display_name": "Python 3",
   "language": "python",
   "name": "python3"
  },
  "language_info": {
   "codemirror_mode": {
    "name": "ipython",
    "version": 3
   },
   "file_extension": ".py",
   "mimetype": "text/x-python",
   "name": "python",
   "nbconvert_exporter": "python",
   "pygments_lexer": "ipython3",
   "version": "3.10.12"
  }
 },
 "nbformat": 4,
 "nbformat_minor": 2
}
