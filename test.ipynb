{
 "cells": [
  {
   "cell_type": "code",
   "execution_count": 9,
   "metadata": {},
   "outputs": [],
   "source": [
    "import pyhf\n",
    "import numpy as np\n",
    "import matplotlib.pyplot as plt "
   ]
  },
  {
   "cell_type": "code",
   "execution_count": 10,
   "metadata": {},
   "outputs": [],
   "source": [
    "bins = np.arange(11)\n",
    "bin_cents = (bins[1:]+bins[:-1])/2\n",
    "\n",
    "hist1 = np.array([1.5, 3., 6., 7.5, 6.3, 6.6, 5.5, 2.5, 3. , 1.5])\n",
    "hist1_err = np.array([0.4 , 0.4 , 0.3 , 0.2 , 0.15, 0.4 , 0.45, 0.5 , 0.3 , 0.35])\n",
    "hist2 = np.array([3. , 6., 9., 12., 15., 9. , 6., 3. , 3.3, 2.15])\n",
    "hist2_err = np.array([1. , 1. , 3. , 2. , 2., 1. , 2., 2. , 1. , 1.])\n",
    "\n",
    "\n",
    "data = np.array([ 4, 17, 26, 23, 34, 23, 21,  7,  8,  4])"
   ]
  },
  {
   "cell_type": "code",
   "execution_count": 11,
   "metadata": {},
   "outputs": [],
   "source": [
    "samples = [\n",
    "    {\n",
    "        \"name\": \"sample1\",\n",
    "        \"data\": list(hist2/2),\n",
    "        \"modifiers\": [\n",
    "            {\"name\": \"mu1\", \"type\": \"normfactor\", \"data\" : None},\n",
    "            {\n",
    "                \"name\": \"hun1\",\n",
    "                \"type\": \"histosys\",\n",
    "                \"data\": {\n",
    "                    \"lo_data\": list(hist2/2 - hist1/2),\n",
    "                    \"hi_data\": list(hist2/2 + hist1/2)\n",
    "                }\n",
    "            }\n",
    "        ],\n",
    "    },\n",
    "    {\n",
    "        \"name\": \"sample2\",\n",
    "        \"data\": list(hist2/2),\n",
    "        \"modifiers\": [\n",
    "            {\"name\": \"mu2\", \"type\": \"normfactor\", \"data\" : None},\n",
    "            {\n",
    "                \"name\": \"hun1\",\n",
    "                \"type\": \"histosys\",\n",
    "                \"data\": {\n",
    "                    \"lo_data\": list(hist2/2 - hist1/2),\n",
    "                    \"hi_data\": list(hist2/2 + hist1/2)\n",
    "                }\n",
    "            }\n",
    "        ],\n",
    "    },\n",
    "]\n",
    "spec = {\"channels\" : [{\"name\" : \"singlechannel\", \"samples\" : samples}]}\n",
    "\n",
    "# info: the `poi_name=None` is nescessary here since we don't want to do a hypothesis test\n",
    "model = pyhf.Model(spec, poi_name=None)"
   ]
  },
  {
   "cell_type": "code",
   "execution_count": 12,
   "metadata": {},
   "outputs": [
    {
     "name": "stdout",
     "output_type": "stream",
     "text": [
      "[1, 1.0, 1.0]\n"
     ]
    },
    {
     "data": {
      "image/png": "[encoded data removed]",
      "text/plain": [
       "<Figure size 640x480 with 1 Axes>"
      ]
     },
     "metadata": {},
     "output_type": "display_data"
    }
   ],
   "source": [
    "plt.stairs(hist1+hist2, bins, baseline=hist2, fill = True)\n",
    "plt.stairs(hist2, bins, fill=True)\n",
    "plt.stairs(hist2-hist1, bins, fill=True)\n",
    "\n",
    "\n",
    "initial_parameters = model.config.suggested_init()\n",
    "initial_parameters[0] = 1\n",
    "# initial_parameters[1] = 1\n",
    "\n",
    "plt.stairs(model.expected_data(initial_parameters, include_auxdata=False), bins, linewidth=2, color='r')\n",
    "# plt.errorbar(bin_cents, model.config.auxdata, yerr=np.sqrt(model.config.auxdata), fmt='o')\n",
    "print(initial_parameters)\n"
   ]
  },
  {
   "cell_type": "markdown",
   "metadata": {},
   "source": [
    "# Correlations within sample"
   ]
  },
  {
   "cell_type": "code",
   "execution_count": 353,
   "metadata": {},
   "outputs": [],
   "source": [
    "from copy import deepcopy\n",
    "\n",
    "def _pca(corr, return_rot=False):\n",
    "    \"\"\"Principal Component analysis, moving to a space where the covariance matrix is diagonal\n",
    "    https://www.cs.cmu.edu/~elaw/papers/pca.pdf\n",
    "\n",
    "    Args:\n",
    "        cov (array): Correlation matrix\n",
    "\n",
    "    Returns:\n",
    "        array: matrix of column wise error vectors (eigenvectors * sqrt(eigenvalues); sqrt(eigenvalues) = std)\n",
    "    \"\"\"\n",
    "    svd = np.linalg.svd(corr)\n",
    "    uvec = svd[0] @ np.sqrt(np.diag(svd[1]))\n",
    "    if return_rot:\n",
    "        return uvec, svd[0]\n",
    "    return uvec\n",
    "\n",
    "def validate(corr):\n",
    "    for c in corr:\n",
    "        shape = np.shape(c[\"corr\"])\n",
    "        if len(shape) != 2:\n",
    "            raise ValueError(\"Correlation matrix must be 2-dimensional.\")\n",
    "        if shape[0] != shape[1]:\n",
    "            raise ValueError(\"Correlation matrix must be square.\")\n",
    "        if len(c[\"vars\"]) != len(c[\"corr\"]):\n",
    "            raise ValueError(\"Number of variables does not match dimension of correlation matrix\")\n",
    "        \n",
    "class _corr_mod:\n",
    "    def __init__(self, i_ch = None, i_sa = None, nominal = None, hi_shift = None, lo_shift = None):\n",
    "        self.i_ch = i_ch\n",
    "        self.i_sa = i_sa\n",
    "        self.nom = nominal\n",
    "        self.lo_shift = lo_shift if lo_shift else np.zeros(len(nominal))\n",
    "        self.hi_shift = hi_shift if hi_shift else np.zeros(len(nominal))\n",
    "        \n",
    "        \n",
    "def get_coords(var_name, spec):\n",
    "    for ich, ch in enumerate(spec):\n",
    "        for isa, sa in enumerate(ch[\"samples\"]):\n",
    "            for imo, mo in enumerate(sa[\"modifiers\"]):\n",
    "                if mo[\"name\"] == var_name:\n",
    "                    return ich, isa, imo\n",
    "    \n",
    "\n",
    "def decorrelate(spec):\n",
    "    if \"correlations\" in spec.keys():\n",
    "        print(\"correlation found\")\n",
    "        \n",
    "        validate(spec[\"correlations\"])\n",
    "        \n",
    "        spec = deepcopy(spec)\n",
    "        \n",
    "        for corr in spec[\"correlations\"]:\n",
    "            \n",
    "            # compute decorrelation \n",
    "            uvec = _pca(corr[\"corr\"])\n",
    "            \n",
    "            # get channel, sample and modifier index for each variable\n",
    "            coords = []\n",
    "            for var in corr[\"vars\"]:\n",
    "                coords.append(get_coords(var, spec[\"channels\"]))\n",
    "\n",
    "            mod_type  = [spec[\"channels\"][c[0]][\"samples\"][c[1]][\"modifiers\"][c[2]][\"type\"] for c in coords]\n",
    "            mod_type  = np.unique(mod_type)[0]\n",
    "            \n",
    "            #check if all modifiers have the same type\n",
    "            if mod_type.size != 1:\n",
    "                raise ValueError(\"Correlated modifiers must have the same type.\")\n",
    "            \n",
    "            nom       = np.array([spec[\"channels\"][c[0]][\"samples\"][c[1]][\"data\"] for c in coords])\n",
    "            lo_diffs  = np.array([np.subtract(spec[\"channels\"][c[0]][\"samples\"][c[1]][\"modifiers\"][c[2]][\"data\"][\"lo_data\"], n) for c, n in zip(coords, nom)])\n",
    "            hi_diffs  = np.array([np.subtract(spec[\"channels\"][c[0]][\"samples\"][c[1]][\"modifiers\"][c[2]][\"data\"][\"hi_data\"], n) for c, n in zip(coords, nom)])\n",
    "            \n",
    "            #initialize modifiers\n",
    "            # mods = []\n",
    "            # for i_ch in np.unique([c[0] for c in coords]):\n",
    "            #     for i_sa in np.unique([c[1] for c in coords]):\n",
    "            #         nom = np.array(spec[\"channels\"][i_ch][\"samples\"][i_sa][\"data\"])\n",
    "            #         mods.append(_corr_mod(i_ch, i_sa, nom))\n",
    "            \n",
    "            # for uv in uvec.T:\n",
    "            #     for u, c in zip(uv, coords):\n",
    "            #         for mod in mods:\n",
    "            #             if mod.i_ch == c[0] and mod.i_sa == c[1]:\n",
    "            #                 lo_diff = np.subtract(spec[\"channels\"][c[0]][\"samples\"][c[1]][\"modifiers\"][c[2]][\"data\"][\"lo_data\"], mod.nom)\n",
    "            #                 hi_diff = np.subtract(spec[\"channels\"][c[0]][\"samples\"][c[1]][\"modifiers\"][c[2]][\"data\"][\"lo_data\"], mod.nom)\n",
    "            #                 mod.lo_shift += u * lo_diff\n",
    "            #                 mod.hi_shift += u * hi_diff\n",
    "                \n",
    "                \n",
    "            \n",
    "            \n",
    "            lo_shifts = np.array([np.sum(u[:, np.newaxis] * lo_diffs, axis=0) for u in uvec.T])\n",
    "            hi_shifts = np.array([np.sum(u[:, np.newaxis] * hi_diffs, axis=0) for u in uvec.T])\n",
    "            \n",
    "            print(coords)\n",
    "            print(lo_shifts)\n",
    "            \n",
    "            new_lo = [n + s for n, s in zip(nom, lo_shifts)]\n",
    "            new_hi = [n + s for n, s in zip(nom, hi_shifts)]\n",
    "            \n",
    "            # compute shifts depending on channel and sample\n",
    "            # for each unique channel and sample, add one modifier\n",
    "            # within one sample, add all contributions\n",
    "            # for ich in np.unique([c[0] for c in coords]):\n",
    "            #     for isa in np.unique([c[1] for c in coords]):\n",
    "                    \n",
    "            #         nom = spec[\"channels\"][ich][\"samples\"][isa][\"data\"]\n",
    "            #         mask = [[(c[0]==ich and c[1]==isa) for c in coords] for _ in uvec.T]\n",
    "            #         mask = [[True, False], [True, False]]\n",
    "            #         print([(c[0]==ich and c[1]==isa) for c in coords])\n",
    "            #         print(lo_shifts[mask])\n",
    "            #         print(lo_shifts[mask])\n",
    "                    \n",
    "                    # hi_shift = np.zeros(len(nom))\n",
    "                    # lo_shift = np.zeros(len(nom))\n",
    "                    # for co, uv in coords, uvec.T:\n",
    "            #             if co[0] == ich and co[1] == isa:\n",
    "            #                 imo = co[2]\n",
    "            #                 lo_shift += np.subtract(spec[\"channels\"][ich][\"samples\"][isa][\"modifiers\"][imo][\"data\"][\"lo_data\"], nom)\n",
    "            #                 hi_shift += np.subtract(spec[\"channels\"][ich][\"samples\"][isa][\"modifiers\"][imo][\"data\"][\"hi_data\"], nom)\n",
    "                            \n",
    "                    \n",
    "            \n",
    "            # compute new high and low modifications for eigenvector\n",
    "            \n",
    "            #add new modifier\n",
    "            for i, (nl, nh) in enumerate(zip(new_lo, new_hi)):\n",
    "                for ich in np.unique([c[0] for c in coords]):\n",
    "                    for isa in np.unique([c[1] for c in coords]):\n",
    "                        spec[\"channels\"][ich][\"samples\"][isa][\"modifiers\"].append(\n",
    "                            {\n",
    "                                \"name\": corr[\"name\"] + f\"[{str(i)}]\",\n",
    "                                \"type\": mod_type,\n",
    "                                \"data\": {\n",
    "                                    \"lo_data\": list(nl),\n",
    "                                    \"hi_data\": list(nh)\n",
    "                                }\n",
    "                            }\n",
    "                        )\n",
    "            \n",
    "            #rm old modifier\n",
    "            new_modifiers = []\n",
    "            for ich in np.unique([c[0] for c in coords]):\n",
    "                for isa in np.unique([c[1] for c in coords]):\n",
    "                    for m in spec[\"channels\"][ich][\"samples\"][isa][\"modifiers\"]:\n",
    "                        if m[\"name\"] not in corr[\"vars\"]:\n",
    "                            new_modifiers.append(m)\n",
    "        \n",
    "        spec[\"channels\"][ich][\"samples\"][isa][\"modifiers\"] = new_modifiers\n",
    "        \n",
    "        del spec[\"correlations\"]\n",
    "        \n",
    "    return spec"
   ]
  },
  {
   "cell_type": "code",
   "execution_count": 354,
   "metadata": {},
   "outputs": [],
   "source": [
    "# add correlated parameters to pyhf model\n",
    "samples = [\n",
    "    {\n",
    "        \"name\": \"sample1\",\n",
    "        \"data\": list(hist2),\n",
    "        \"modifiers\": [\n",
    "            {\"name\": \"mu\", \"type\": \"normfactor\", \"data\" : None},\n",
    "            {\n",
    "                \"name\": \"u1\",\n",
    "                \"type\": \"histosys\",\n",
    "                \"data\": {\n",
    "                    \"lo_data\": list(hist2-hist1),\n",
    "                    \"hi_data\": list(hist2+hist1)\n",
    "                }\n",
    "            },\n",
    "            {\n",
    "                \"name\": \"u2\",\n",
    "                \"type\": \"histosys\",\n",
    "                \"data\": {\n",
    "                    \"lo_data\": list(hist2-hist2),\n",
    "                    \"hi_data\": list(hist2+hist2)\n",
    "                }\n",
    "            }\n",
    "        ],\n",
    "        \n",
    "    },\n",
    "]\n",
    "spec = {\"channels\" : [{\"name\" : \"singlechannel\", \"samples\" : samples}]}\n",
    "model = pyhf.Model(spec)\n"
   ]
  },
  {
   "cell_type": "code",
   "execution_count": 355,
   "metadata": {},
   "outputs": [
    {
     "name": "stdout",
     "output_type": "stream",
     "text": [
      "correlation found\n",
      "[(0, 0, 1), (0, 0, 2)]\n",
      "[[ 4.5   9.   15.   19.5  21.3  15.6  11.5   5.5   6.3   3.65]\n",
      " [ 0.    0.    0.    0.    0.    0.    0.    0.    0.    0.  ]]\n"
     ]
    },
    {
     "data": {
      "text/plain": [
       "{'channels': [{'name': 'singlechannel',\n",
       "   'samples': [{'name': 'sample1',\n",
       "     'data': [3.0, 6.0, 9.0, 12.0, 15.0, 9.0, 6.0, 3.0, 3.3, 2.15],\n",
       "     'modifiers': [{'name': 'mu', 'type': 'normfactor', 'data': None},\n",
       "      {'name': 'corr[0]',\n",
       "       'type': 'histosys',\n",
       "       'data': {'lo_data': [7.5,\n",
       "         15.0,\n",
       "         24.0,\n",
       "         31.499999999999996,\n",
       "         36.3,\n",
       "         24.599999999999998,\n",
       "         17.5,\n",
       "         8.5,\n",
       "         9.599999999999998,\n",
       "         5.799999999999999],\n",
       "        'hi_data': [-1.5,\n",
       "         -3.0,\n",
       "         -5.999999999999998,\n",
       "         -7.4999999999999964,\n",
       "         -6.299999999999997,\n",
       "         -6.599999999999998,\n",
       "         -5.499999999999998,\n",
       "         -2.499999999999999,\n",
       "         -2.999999999999999,\n",
       "         -1.4999999999999996]}},\n",
       "      {'name': 'corr[1]',\n",
       "       'type': 'histosys',\n",
       "       'data': {'lo_data': [3.0,\n",
       "         6.0,\n",
       "         9.0,\n",
       "         12.0,\n",
       "         15.0,\n",
       "         9.0,\n",
       "         6.0,\n",
       "         3.0,\n",
       "         3.3,\n",
       "         2.15],\n",
       "        'hi_data': [3.0,\n",
       "         6.0,\n",
       "         9.0,\n",
       "         12.0,\n",
       "         15.0,\n",
       "         9.0,\n",
       "         6.0,\n",
       "         3.0,\n",
       "         3.3,\n",
       "         2.15]}}]}]}]}"
      ]
     },
     "execution_count": 355,
     "metadata": {},
     "output_type": "execute_result"
    }
   ],
   "source": [
    "spec = {\n",
    "    \"channels\" : [{\"name\" : \"singlechannel\", \"samples\" : samples}], \n",
    "    \"correlations\": [\n",
    "        {\n",
    "            \"name\": \"corr\",\n",
    "            \"vars\": [\"u1\", \"u2\"],\n",
    "            \"corr\": [[1., 1.], [1., 1.]],\n",
    "        }\n",
    "    ]}\n",
    "new_spec = decorrelate(spec)\n",
    "new_model = pyhf.Model(new_spec)\n",
    "new_spec"
   ]
  },
  {
   "cell_type": "code",
   "execution_count": 357,
   "metadata": {},
   "outputs": [
    {
     "data": {
      "text/plain": [
       "<matplotlib.legend.Legend at 0x7f87715c7b80>"
      ]
     },
     "execution_count": 357,
     "metadata": {},
     "output_type": "execute_result"
    },
    {
     "data": {
      "image/png": "[encoded data removed]",
      "text/plain": [
       "<Figure size 640x480 with 1 Axes>"
      ]
     },
     "metadata": {},
     "output_type": "display_data"
    }
   ],
   "source": [
    "plt.stairs(hist2+hist1+hist2, bins, fill = True, label = 'up up')\n",
    "plt.stairs(hist2+hist2, bins, fill = True, label = '-- up')\n",
    "plt.stairs(hist2+hist1, bins, fill = True, label = 'up --')\n",
    "plt.stairs(hist2, bins, fill=True, label = '-- --')\n",
    "plt.stairs(hist2-hist1, bins, fill=True, label = 'dn --')\n",
    "plt.stairs(hist2-hist2, bins, fill=True, label = '-- dn')\n",
    "plt.stairs(hist2-hist1-hist2, bins, fill=True, label = 'dn dn')\n",
    "\n",
    "initial_parameters = new_model.config.suggested_init()\n",
    "initial_parameters[0] = 1.\n",
    "initial_parameters[1] = 0.\n",
    "\n",
    "plt.stairs(new_model.expected_data(initial_parameters, include_auxdata=False), bins, linewidth=2, color='r')\n",
    "\n",
    "plt.legend()"
   ]
  },
  {
   "cell_type": "markdown",
   "metadata": {},
   "source": [
    "# Correlations across samples"
   ]
  },
  {
   "cell_type": "code",
   "execution_count": 101,
   "metadata": {},
   "outputs": [],
   "source": [
    "# add correlated parameters to pyhf model\n",
    "samples = [\n",
    "    {\n",
    "        \"name\": \"sample1\",\n",
    "        \"data\": list(hist1),\n",
    "        \"modifiers\": [\n",
    "            {\"name\": \"mu\", \"type\": \"normfactor\", \"data\" : None},\n",
    "            {\n",
    "                \"name\": \"u1\",\n",
    "                \"type\": \"histosys\",\n",
    "                \"data\": {\n",
    "                    \"lo_data\": list(hist1-hist1),\n",
    "                    \"hi_data\": list(hist1+hist1)\n",
    "                }\n",
    "            }\n",
    "        ],\n",
    "        \n",
    "    },    \n",
    "    {\n",
    "        \"name\": \"sample2\",\n",
    "        \"data\": list(hist2),\n",
    "        \"modifiers\": [\n",
    "            {\n",
    "                \"name\": \"u2\",\n",
    "                \"type\": \"histosys\",\n",
    "                \"data\": {\n",
    "                    \"lo_data\": list(hist2-hist1),\n",
    "                    \"hi_data\": list(hist2+hist1)\n",
    "                }\n",
    "            }\n",
    "        ],\n",
    "        \n",
    "    },\n",
    "    \n",
    "]\n",
    "spec = {\"channels\" : [{\"name\" : \"corrchannel\", \"samples\" : samples}]}\n",
    "model = pyhf.Model(spec)\n"
   ]
  },
  {
   "cell_type": "code",
   "execution_count": 102,
   "metadata": {},
   "outputs": [
    {
     "name": "stdout",
     "output_type": "stream",
     "text": [
      "correlation found\n",
      "[(0, 0, 1), (0, 1, 0)]\n"
     ]
    },
    {
     "ename": "ValueError",
     "evalue": "Correlated modifiers must have the same type.",
     "output_type": "error",
     "traceback": [
      "\u001b[0;31m---------------------------------------------------------------------------\u001b[0m",
      "\u001b[0;31mValueError\u001b[0m                                Traceback (most recent call last)",
      "Cell \u001b[0;32mIn [102], line 10\u001b[0m\n\u001b[1;32m      1\u001b[0m spec \u001b[38;5;241m=\u001b[39m {\n\u001b[1;32m      2\u001b[0m     \u001b[38;5;124m\"\u001b[39m\u001b[38;5;124mchannels\u001b[39m\u001b[38;5;124m\"\u001b[39m : [{\u001b[38;5;124m\"\u001b[39m\u001b[38;5;124mname\u001b[39m\u001b[38;5;124m\"\u001b[39m : \u001b[38;5;124m\"\u001b[39m\u001b[38;5;124msinglechannel\u001b[39m\u001b[38;5;124m\"\u001b[39m, \u001b[38;5;124m\"\u001b[39m\u001b[38;5;124msamples\u001b[39m\u001b[38;5;124m\"\u001b[39m : samples}], \n\u001b[1;32m      3\u001b[0m     \u001b[38;5;124m\"\u001b[39m\u001b[38;5;124mcorrelations\u001b[39m\u001b[38;5;124m\"\u001b[39m: [\n\u001b[0;32m   (...)\u001b[0m\n\u001b[1;32m      8\u001b[0m         }\n\u001b[1;32m      9\u001b[0m     ]}\n\u001b[0;32m---> 10\u001b[0m new_spec \u001b[38;5;241m=\u001b[39m decorrelate(spec)\n\u001b[1;32m     11\u001b[0m new_model \u001b[38;5;241m=\u001b[39m pyhf\u001b[38;5;241m.\u001b[39mModel(new_spec)\n\u001b[1;32m     12\u001b[0m new_spec\n",
      "Cell \u001b[0;32mIn [96], line 70\u001b[0m, in \u001b[0;36mdecorrelate\u001b[0;34m(spec)\u001b[0m\n\u001b[1;32m     68\u001b[0m \u001b[38;5;28;01mfor\u001b[39;00m i \u001b[38;5;129;01min\u001b[39;00m imo:\n\u001b[1;32m     69\u001b[0m     \u001b[38;5;28;01mif\u001b[39;00m spec[\u001b[38;5;124m\"\u001b[39m\u001b[38;5;124mchannels\u001b[39m\u001b[38;5;124m\"\u001b[39m][ich][\u001b[38;5;124m\"\u001b[39m\u001b[38;5;124msamples\u001b[39m\u001b[38;5;124m\"\u001b[39m][isa][\u001b[38;5;124m\"\u001b[39m\u001b[38;5;124mmodifiers\u001b[39m\u001b[38;5;124m\"\u001b[39m][i][\u001b[38;5;124m\"\u001b[39m\u001b[38;5;124mtype\u001b[39m\u001b[38;5;124m\"\u001b[39m] \u001b[38;5;241m!=\u001b[39m mod_type:\n\u001b[0;32m---> 70\u001b[0m         \u001b[38;5;28;01mraise\u001b[39;00m \u001b[38;5;167;01mValueError\u001b[39;00m(\u001b[38;5;124m\"\u001b[39m\u001b[38;5;124mCorrelated modifiers must have the same type.\u001b[39m\u001b[38;5;124m\"\u001b[39m)\n\u001b[1;32m     72\u001b[0m nom \u001b[38;5;241m=\u001b[39m spec[\u001b[38;5;124m\"\u001b[39m\u001b[38;5;124mchannels\u001b[39m\u001b[38;5;124m\"\u001b[39m][ich][\u001b[38;5;124m\"\u001b[39m\u001b[38;5;124msamples\u001b[39m\u001b[38;5;124m\"\u001b[39m][isa][\u001b[38;5;124m\"\u001b[39m\u001b[38;5;124mdata\u001b[39m\u001b[38;5;124m\"\u001b[39m]\n\u001b[1;32m     73\u001b[0m lo_shifts \u001b[38;5;241m=\u001b[39m [np\u001b[38;5;241m.\u001b[39msubtract(spec[\u001b[38;5;124m\"\u001b[39m\u001b[38;5;124mchannels\u001b[39m\u001b[38;5;124m\"\u001b[39m][ich][\u001b[38;5;124m\"\u001b[39m\u001b[38;5;124msamples\u001b[39m\u001b[38;5;124m\"\u001b[39m][isa][\u001b[38;5;124m\"\u001b[39m\u001b[38;5;124mmodifiers\u001b[39m\u001b[38;5;124m\"\u001b[39m][i][\u001b[38;5;124m\"\u001b[39m\u001b[38;5;124mdata\u001b[39m\u001b[38;5;124m\"\u001b[39m][\u001b[38;5;124m\"\u001b[39m\u001b[38;5;124mlo_data\u001b[39m\u001b[38;5;124m\"\u001b[39m], nom) \u001b[38;5;28;01mfor\u001b[39;00m i \u001b[38;5;129;01min\u001b[39;00m imo]\n",
      "\u001b[0;31mValueError\u001b[0m: Correlated modifiers must have the same type."
     ]
    }
   ],
   "source": [
    "spec = {\n",
    "    \"channels\" : [{\"name\" : \"singlechannel\", \"samples\" : samples}], \n",
    "    \"correlations\": [\n",
    "        {\n",
    "            \"name\": \"corr\",\n",
    "            \"vars\": [\"u1\", \"u2\"],\n",
    "            \"corr\": [[1., 1.], [1., 1.]],\n",
    "        }\n",
    "    ]}\n",
    "new_spec = decorrelate(spec)\n",
    "new_model = pyhf.Model(new_spec)\n",
    "new_spec"
   ]
  },
  {
   "cell_type": "code",
   "execution_count": 93,
   "metadata": {},
   "outputs": [
    {
     "data": {
      "text/plain": [
       "<matplotlib.legend.Legend at 0x7f8777fc2d40>"
      ]
     },
     "execution_count": 93,
     "metadata": {},
     "output_type": "execute_result"
    },
    {
     "data": {
      "image/png": "[encoded data removed]",
      "text/plain": [
       "<Figure size 640x480 with 1 Axes>"
      ]
     },
     "metadata": {},
     "output_type": "display_data"
    }
   ],
   "source": [
    "plt.stairs(hist2+hist1+hist1+hist1, bins, fill = True, label = 'up up')\n",
    "# plt.stairs(hist2+hist2, bins, fill = True, label = '-- up')\n",
    "plt.stairs(hist2+hist1, bins, fill = True, label = 'up --')\n",
    "# plt.stairs(hist2, bins, fill=True, label = '-- --')\n",
    "plt.stairs(hist2-hist1, bins, fill=True, label = 'dn --')\n",
    "# plt.stairs(hist2-hist2, bins, fill=True, label = '-- dn')\n",
    "# plt.stairs(hist2-hist1-hist2, bins, fill=True, label = 'dn dn')\n",
    "\n",
    "initial_parameters = model.config.suggested_init()\n",
    "initial_parameters[0] = 0.\n",
    "# initial_parameters[1] = 1.\n",
    "\n",
    "plt.stairs(model.expected_data(initial_parameters, include_auxdata=False), bins, linewidth=2, color='r')\n",
    "\n",
    "plt.legend()"
   ]
  },
  {
   "cell_type": "code",
   "execution_count": null,
   "metadata": {},
   "outputs": [],
   "source": []
  }
 ],
 "metadata": {
  "kernelspec": {
   "display_name": "Python 3",
   "language": "python",
   "name": "python3"
  },
  "language_info": {
   "codemirror_mode": {
    "name": "ipython",
    "version": 3
   },
   "file_extension": ".py",
   "mimetype": "text/x-python",
   "name": "python",
   "nbconvert_exporter": "python",
   "pygments_lexer": "ipython3",
   "version": "3.10.12"
  }
 },
 "nbformat": 4,
 "nbformat_minor": 2
}
