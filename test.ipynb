{
 "cells": [
  {
   "cell_type": "code",
   "execution_count": 1,
   "metadata": {},
   "outputs": [],
   "source": [
    "import pyhf\n",
    "import numpy as np\n",
    "import matplotlib.pyplot as plt \n",
    "import decorrelate"
   ]
  },
  {
   "cell_type": "code",
   "execution_count": 2,
   "metadata": {},
   "outputs": [],
   "source": [
    "bins = np.arange(11)\n",
    "bin_cents = (bins[1:]+bins[:-1])/2\n",
    "\n",
    "hist1 = np.array([1.5, 3., 6., 7.5, 6.3, 6.6, 5.5, 2.5, 3. , 1.5])\n",
    "hist1_err = np.array([0.4 , 0.4 , 0.3 , 0.2 , 0.15, 0.4 , 0.45, 0.5 , 0.3 , 0.35])\n",
    "hist2 = np.array([3. , 6., 9., 12., 15., 9. , 6., 3. , 3.3, 2.15])\n",
    "hist2_err = np.array([1. , 1. , 3. , 2. , 2., 1. , 2., 2. , 1. , 1.])\n",
    "\n",
    "\n",
    "data = np.array([ 4, 17, 26, 23, 34, 23, 21,  7,  8,  4])"
   ]
  },
  {
   "cell_type": "code",
   "execution_count": 3,
   "metadata": {},
   "outputs": [],
   "source": [
    "samples = [\n",
    "    {\n",
    "        \"name\": \"sample1\",\n",
    "        \"data\": list(hist2/2),\n",
    "        \"modifiers\": [\n",
    "            {\"name\": \"mu1\", \"type\": \"normfactor\", \"data\" : None},\n",
    "            {\n",
    "                \"name\": \"hun1\",\n",
    "                \"type\": \"histosys\",\n",
    "                \"data\": {\n",
    "                    \"lo_data\": list(hist2/2 - hist1/2),\n",
    "                    \"hi_data\": list(hist2/2 + hist1/2)\n",
    "                }\n",
    "            }\n",
    "        ],\n",
    "    },\n",
    "    {\n",
    "        \"name\": \"sample2\",\n",
    "        \"data\": list(hist2/2),\n",
    "        \"modifiers\": [\n",
    "            {\"name\": \"mu2\", \"type\": \"normfactor\", \"data\" : None},\n",
    "            {\n",
    "                \"name\": \"hun1\",\n",
    "                \"type\": \"histosys\",\n",
    "                \"data\": {\n",
    "                    \"lo_data\": list(hist2/2 - hist1/2),\n",
    "                    \"hi_data\": list(hist2/2 + hist1/2)\n",
    "                }\n",
    "            }\n",
    "        ],\n",
    "    },\n",
    "]\n",
    "spec = {\"channels\" : [{\"name\" : \"singlechannel\", \"samples\" : samples}]}\n",
    "\n",
    "# info: the `poi_name=None` is nescessary here since we don't want to do a hypothesis test\n",
    "model = pyhf.Model(spec, poi_name=None)"
   ]
  },
  {
   "cell_type": "code",
   "execution_count": 4,
   "metadata": {},
   "outputs": [
    {
     "name": "stdout",
     "output_type": "stream",
     "text": [
      "[1, 1.0, 1.0]\n"
     ]
    },
    {
     "data": {
      "image/png": "[encoded data removed]",
      "text/plain": [
       "<Figure size 640x480 with 1 Axes>"
      ]
     },
     "metadata": {},
     "output_type": "display_data"
    }
   ],
   "source": [
    "plt.stairs(hist1+hist2, bins, baseline=hist2, fill = True)\n",
    "plt.stairs(hist2, bins, fill=True)\n",
    "plt.stairs(hist2-hist1, bins, fill=True)\n",
    "\n",
    "\n",
    "initial_parameters = model.config.suggested_init()\n",
    "initial_parameters[0] = 1\n",
    "# initial_parameters[1] = 1\n",
    "\n",
    "plt.stairs(model.expected_data(initial_parameters, include_auxdata=False), bins, linewidth=2, color='r')\n",
    "# plt.errorbar(bin_cents, model.config.auxdata, yerr=np.sqrt(model.config.auxdata), fmt='o')\n",
    "print(initial_parameters)\n"
   ]
  },
  {
   "cell_type": "markdown",
   "metadata": {},
   "source": [
    "# Correlations within sample"
   ]
  },
  {
   "cell_type": "code",
   "execution_count": 5,
   "metadata": {},
   "outputs": [],
   "source": [
    "# add correlated parameters to pyhf model\n",
    "samples = [\n",
    "    {\n",
    "        \"name\": \"sample1\",\n",
    "        \"data\": list(hist2),\n",
    "        \"modifiers\": [\n",
    "            {\"name\": \"mu\", \"type\": \"normfactor\", \"data\" : None},\n",
    "            {\n",
    "                \"name\": \"u1\",\n",
    "                \"type\": \"histosys\",\n",
    "                \"data\": {\n",
    "                    \"lo_data\": list(hist2-hist1),\n",
    "                    \"hi_data\": list(hist2+hist1)\n",
    "                }\n",
    "            },\n",
    "            {\n",
    "                \"name\": \"u2\",\n",
    "                \"type\": \"histosys\",\n",
    "                \"data\": {\n",
    "                    \"lo_data\": list(hist2-hist2),\n",
    "                    \"hi_data\": list(hist2+hist2)\n",
    "                }\n",
    "            }\n",
    "        ],\n",
    "        \n",
    "    },\n",
    "]\n",
    "spec = {\"channels\" : [{\"name\" : \"singlechannel\", \"samples\" : samples}]}\n",
    "model = pyhf.Model(spec)\n"
   ]
  },
  {
   "cell_type": "code",
   "execution_count": 6,
   "metadata": {},
   "outputs": [
    {
     "name": "stdout",
     "output_type": "stream",
     "text": [
      "correlation found\n"
     ]
    },
    {
     "data": {
      "text/plain": [
       "{'channels': [{'name': 'singlechannel',\n",
       "   'samples': [{'name': 'sample1',\n",
       "     'data': [3.0, 6.0, 9.0, 12.0, 15.0, 9.0, 6.0, 3.0, 3.3, 2.15],\n",
       "     'modifiers': [{'name': 'mu', 'type': 'normfactor', 'data': None},\n",
       "      {'name': 'corr[0]',\n",
       "       'type': 'histosys',\n",
       "       'data': {'lo_data': [7.5,\n",
       "         15.0,\n",
       "         24.0,\n",
       "         31.499999999999996,\n",
       "         36.3,\n",
       "         24.599999999999998,\n",
       "         17.5,\n",
       "         8.5,\n",
       "         9.599999999999998,\n",
       "         5.799999999999999],\n",
       "        'hi_data': [-1.5,\n",
       "         -3.0,\n",
       "         -5.999999999999998,\n",
       "         -7.4999999999999964,\n",
       "         -6.299999999999997,\n",
       "         -6.599999999999998,\n",
       "         -5.499999999999998,\n",
       "         -2.499999999999999,\n",
       "         -2.999999999999999,\n",
       "         -1.4999999999999996]}},\n",
       "      {'name': 'corr[1]',\n",
       "       'type': 'histosys',\n",
       "       'data': {'lo_data': [3.0,\n",
       "         6.0,\n",
       "         9.0,\n",
       "         12.0,\n",
       "         15.0,\n",
       "         9.0,\n",
       "         6.0,\n",
       "         3.0,\n",
       "         3.3,\n",
       "         2.15],\n",
       "        'hi_data': [3.0,\n",
       "         6.0,\n",
       "         9.0,\n",
       "         12.0,\n",
       "         15.0,\n",
       "         9.0,\n",
       "         6.0,\n",
       "         3.0,\n",
       "         3.3,\n",
       "         2.15]}}]}]}]}"
      ]
     },
     "execution_count": 6,
     "metadata": {},
     "output_type": "execute_result"
    }
   ],
   "source": [
    "spec = {\n",
    "    \"channels\" : [{\"name\" : \"singlechannel\", \"samples\" : samples}], \n",
    "    \"correlations\": [\n",
    "        {\n",
    "            \"name\": \"corr\",\n",
    "            \"vars\": [\"u1\", \"u2\"],\n",
    "            \"corr\": [[1., 1.], [1., 1.]],\n",
    "        }\n",
    "    ]}\n",
    "new_spec = decorrelate.decorrelate(spec)\n",
    "new_model = pyhf.Model(new_spec)\n",
    "new_spec"
   ]
  },
  {
   "cell_type": "code",
   "execution_count": 7,
   "metadata": {},
   "outputs": [
    {
     "data": {
      "text/plain": [
       "<matplotlib.legend.Legend at 0x7f2b8b5a4340>"
      ]
     },
     "execution_count": 7,
     "metadata": {},
     "output_type": "execute_result"
    },
    {
     "data": {
      "image/png": "[encoded data removed]",
      "text/plain": [
       "<Figure size 640x480 with 1 Axes>"
      ]
     },
     "metadata": {},
     "output_type": "display_data"
    }
   ],
   "source": [
    "plt.stairs(hist2+hist1+hist2, bins, fill = True, label = 'up up')\n",
    "plt.stairs(hist2+hist2, bins, fill = True, label = '-- up')\n",
    "plt.stairs(hist2+hist1, bins, fill = True, label = 'up --')\n",
    "plt.stairs(hist2, bins, fill=True, label = '-- --')\n",
    "plt.stairs(hist2-hist1, bins, fill=True, label = 'dn --')\n",
    "plt.stairs(hist2-hist2, bins, fill=True, label = '-- dn')\n",
    "plt.stairs(hist2-hist1-hist2, bins, fill=True, label = 'dn dn')\n",
    "\n",
    "initial_parameters = new_model.config.suggested_init()\n",
    "initial_parameters[0] = 1.\n",
    "initial_parameters[1] = 0.\n",
    "\n",
    "plt.stairs(new_model.expected_data(initial_parameters, include_auxdata=False), bins, linewidth=2, color='r')\n",
    "\n",
    "plt.legend()"
   ]
  },
  {
   "cell_type": "markdown",
   "metadata": {},
   "source": [
    "# Correlations across samples"
   ]
  },
  {
   "cell_type": "code",
   "execution_count": 8,
   "metadata": {},
   "outputs": [],
   "source": [
    "# add correlated parameters to pyhf model\n",
    "samples = [\n",
    "    {\n",
    "        \"name\": \"sample1\",\n",
    "        \"data\": list(hist1),\n",
    "        \"modifiers\": [\n",
    "            {\"name\": \"mu\", \"type\": \"normfactor\", \"data\" : None},\n",
    "            {\n",
    "                \"name\": \"u1\",\n",
    "                \"type\": \"histosys\",\n",
    "                \"data\": {\n",
    "                    \"lo_data\": list(hist1-hist1),\n",
    "                    \"hi_data\": list(hist1+hist1)\n",
    "                }\n",
    "            }\n",
    "        ],\n",
    "        \n",
    "    },    \n",
    "    {\n",
    "        \"name\": \"sample2\",\n",
    "        \"data\": list(hist2),\n",
    "        \"modifiers\": [\n",
    "            {\n",
    "                \"name\": \"u2\",\n",
    "                \"type\": \"histosys\",\n",
    "                \"data\": {\n",
    "                    \"lo_data\": list(hist2-hist1),\n",
    "                    \"hi_data\": list(hist2+hist1)\n",
    "                }\n",
    "            }\n",
    "        ],\n",
    "        \n",
    "    },\n",
    "    \n",
    "]\n",
    "spec = {\"channels\" : [{\"name\" : \"corrchannel\", \"samples\" : samples}]}\n",
    "model = pyhf.Model(spec)\n"
   ]
  },
  {
   "cell_type": "code",
   "execution_count": 12,
   "metadata": {},
   "outputs": [
    {
     "name": "stdout",
     "output_type": "stream",
     "text": [
      "correlation found\n"
     ]
    },
    {
     "data": {
      "text/plain": [
       "{'channels': [{'name': 'singlechannel',\n",
       "   'samples': [{'name': 'sample1',\n",
       "     'data': [1.5, 3.0, 6.0, 7.5, 6.3, 6.6, 5.5, 2.5, 3.0, 1.5],\n",
       "     'modifiers': [{'name': 'mu', 'type': 'normfactor', 'data': None},\n",
       "      {'name': 'corr[0]',\n",
       "       'type': 'histosys',\n",
       "       'data': {'lo_data': [2.9999999999999996,\n",
       "         5.999999999999999,\n",
       "         11.999999999999998,\n",
       "         14.999999999999996,\n",
       "         12.599999999999998,\n",
       "         13.199999999999998,\n",
       "         10.999999999999998,\n",
       "         4.999999999999999,\n",
       "         5.999999999999999,\n",
       "         2.9999999999999996],\n",
       "        'hi_data': [4.440892098500626e-16,\n",
       "         8.881784197001252e-16,\n",
       "         1.7763568394002505e-15,\n",
       "         2.6645352591003757e-15,\n",
       "         1.7763568394002505e-15,\n",
       "         1.7763568394002505e-15,\n",
       "         1.7763568394002505e-15,\n",
       "         8.881784197001252e-16,\n",
       "         8.881784197001252e-16,\n",
       "         4.440892098500626e-16]}},\n",
       "      {'name': 'corr[1]',\n",
       "       'type': 'histosys',\n",
       "       'data': {'lo_data': [1.5, 3.0, 6.0, 7.5, 6.3, 6.6, 5.5, 2.5, 3.0, 1.5],\n",
       "        'hi_data': [1.5, 3.0, 6.0, 7.5, 6.3, 6.6, 5.5, 2.5, 3.0, 1.5]}}]},\n",
       "    {'name': 'sample2',\n",
       "     'data': [3.0, 6.0, 9.0, 12.0, 15.0, 9.0, 6.0, 3.0, 3.3, 2.15],\n",
       "     'modifiers': [{'name': 'corr[0]',\n",
       "       'type': 'histosys',\n",
       "       'data': {'lo_data': [4.5,\n",
       "         9.0,\n",
       "         15.0,\n",
       "         19.5,\n",
       "         21.3,\n",
       "         15.6,\n",
       "         11.5,\n",
       "         5.5,\n",
       "         6.3,\n",
       "         3.65],\n",
       "        'hi_data': [1.5,\n",
       "         3.0,\n",
       "         3.0,\n",
       "         4.5,\n",
       "         8.7,\n",
       "         2.4000000000000004,\n",
       "         0.5,\n",
       "         0.5,\n",
       "         0.2999999999999998,\n",
       "         0.6499999999999999]}},\n",
       "      {'name': 'corr[1]',\n",
       "       'type': 'histosys',\n",
       "       'data': {'lo_data': [3.0,\n",
       "         6.0,\n",
       "         9.0,\n",
       "         12.0,\n",
       "         15.0,\n",
       "         9.0,\n",
       "         6.0,\n",
       "         3.0,\n",
       "         3.3,\n",
       "         2.15],\n",
       "        'hi_data': [3.0,\n",
       "         6.0,\n",
       "         9.0,\n",
       "         12.0,\n",
       "         15.0,\n",
       "         9.0,\n",
       "         6.0,\n",
       "         3.0,\n",
       "         3.3,\n",
       "         2.15]}}]}]}]}"
      ]
     },
     "execution_count": 12,
     "metadata": {},
     "output_type": "execute_result"
    }
   ],
   "source": [
    "spec = {\n",
    "    \"channels\" : [{\"name\" : \"singlechannel\", \"samples\" : samples}], \n",
    "    \"correlations\": [\n",
    "        {\n",
    "            \"name\": \"corr\",\n",
    "            \"vars\": [\"u1\", \"u2\"],\n",
    "            \"corr\": [[1., 1.], [1., 1.]],\n",
    "        }\n",
    "    ]}\n",
    "new_spec = decorrelate.decorrelate(spec)\n",
    "new_model = pyhf.Model(new_spec)\n",
    "new_spec"
   ]
  },
  {
   "cell_type": "code",
   "execution_count": 13,
   "metadata": {},
   "outputs": [
    {
     "data": {
      "text/plain": [
       "{'corr[0]': {'slice': slice(0, 1, None),\n",
       "  'paramset': <pyhf.parameters.paramsets.constrained_by_normal at 0x7f2b8d6506a0>},\n",
       " 'corr[1]': {'slice': slice(1, 2, None),\n",
       "  'paramset': <pyhf.parameters.paramsets.constrained_by_normal at 0x7f2b8d650970>},\n",
       " 'mu': {'slice': slice(2, 3, None),\n",
       "  'paramset': <pyhf.parameters.paramsets.unconstrained at 0x7f2b8d6509a0>}}"
      ]
     },
     "execution_count": 13,
     "metadata": {},
     "output_type": "execute_result"
    }
   ],
   "source": [
    "new_model.config.par_map"
   ]
  },
  {
   "cell_type": "code",
   "execution_count": 14,
   "metadata": {},
   "outputs": [
    {
     "data": {
      "text/plain": [
       "<matplotlib.legend.Legend at 0x7f2b8b4da6e0>"
      ]
     },
     "execution_count": 14,
     "metadata": {},
     "output_type": "execute_result"
    },
    {
     "data": {
      "image/png": "[encoded data removed]",
      "text/plain": [
       "<Figure size 640x480 with 1 Axes>"
      ]
     },
     "metadata": {},
     "output_type": "display_data"
    }
   ],
   "source": [
    "plt.stairs(hist2+hist1+hist1+hist1, bins, fill = True, label = 'up up')\n",
    "# plt.stairs(hist2+hist2, bins, fill = True, label = '-- up')\n",
    "plt.stairs(hist2+hist1, bins, fill = True, label = 'nom')\n",
    "# plt.stairs(hist2, bins, fill=True, label = '-- --')\n",
    "plt.stairs(hist2-hist1 + hist1 - hist1, bins, fill=True, label = 'dn dn')\n",
    "# plt.stairs(hist2-hist2, bins, fill=True, label = '-- dn')\n",
    "# plt.stairs(hist2-hist1-hist2, bins, fill=True, label = 'dn dn')\n",
    "\n",
    "initial_parameters = new_model.config.suggested_init()\n",
    "initial_parameters[0] = 0.\n",
    "initial_parameters[1] = 100.\n",
    "\n",
    "plt.stairs(new_model.expected_data(initial_parameters, include_auxdata=False), bins, linewidth=2, color='r')\n",
    "\n",
    "plt.legend()"
   ]
  },
  {
   "cell_type": "code",
   "execution_count": null,
   "metadata": {},
   "outputs": [],
   "source": []
  }
 ],
 "metadata": {
  "kernelspec": {
   "display_name": "Python 3",
   "language": "python",
   "name": "python3"
  },
  "language_info": {
   "codemirror_mode": {
    "name": "ipython",
    "version": 3
   },
   "file_extension": ".py",
   "mimetype": "text/x-python",
   "name": "python",
   "nbconvert_exporter": "python",
   "pygments_lexer": "ipython3",
   "version": "3.10.12"
  }
 },
 "nbformat": 4,
 "nbformat_minor": 2
}
