{
 "cells": [
  {
   "cell_type": "code",
   "execution_count": 1,
   "metadata": {},
   "outputs": [],
   "source": [
    "%load_ext autoreload\n",
    "%autoreload 2\n",
    "\n",
    "import pyhf\n",
    "import numpy as np\n",
    "import matplotlib.pyplot as plt \n",
    "from pyhfcorr import decorrelate"
   ]
  },
  {
   "cell_type": "code",
   "execution_count": 2,
   "metadata": {},
   "outputs": [],
   "source": [
    "bins = np.arange(11)\n",
    "bin_cents = (bins[1:]+bins[:-1])/2\n",
    "\n",
    "hist1 = np.array([1.5, 3., 6., 7.5, 6.3, 6.6, 5.5, 2.5, 3. , 1.5])\n",
    "hist1_err = np.array([0.4 , 0.4 , 0.3 , 0.2 , 0.15, 0.4 , 0.45, 0.5 , 0.3 , 0.35])\n",
    "hist2 = np.array([3. , 6., 9., 12., 15., 9. , 6., 3. , 3.3, 2.15])\n",
    "hist2_err = np.array([1. , 1. , 3. , 2. , 2., 1. , 2., 2. , 1. , 1.])\n",
    "\n",
    "\n",
    "data = np.array([ 4, 17, 26, 23, 34, 23, 21,  7,  8,  4])"
   ]
  },
  {
   "cell_type": "code",
   "execution_count": 3,
   "metadata": {},
   "outputs": [],
   "source": [
    "samples = [\n",
    "    {\n",
    "        \"name\": \"sample1\",\n",
    "        \"data\": list(hist2/2),\n",
    "        \"modifiers\": [\n",
    "            {\"name\": \"mu1\", \"type\": \"normfactor\", \"data\" : None},\n",
    "            {\n",
    "                \"name\": \"hun1\",\n",
    "                \"type\": \"histosys\",\n",
    "                \"data\": {\n",
    "                    \"lo_data\": list(hist2/2 - hist1/2),\n",
    "                    \"hi_data\": list(hist2/2 + hist1/2)\n",
    "                }\n",
    "            }\n",
    "        ],\n",
    "    },\n",
    "    {\n",
    "        \"name\": \"sample2\",\n",
    "        \"data\": list(hist2/2),\n",
    "        \"modifiers\": [\n",
    "            {\"name\": \"mu2\", \"type\": \"normfactor\", \"data\" : None},\n",
    "            {\n",
    "                \"name\": \"hun1\",\n",
    "                \"type\": \"histosys\",\n",
    "                \"data\": {\n",
    "                    \"lo_data\": list(hist2/2 - hist1/2),\n",
    "                    \"hi_data\": list(hist2/2 + hist1/2)\n",
    "                }\n",
    "            }\n",
    "        ],\n",
    "    },\n",
    "]\n",
    "spec = {\"channels\" : [{\"name\" : \"singlechannel\", \"samples\" : samples}]}\n",
    "\n",
    "# info: the `poi_name=None` is nescessary here since we don't want to do a hypothesis test\n",
    "model = pyhf.Model(spec, poi_name=None)"
   ]
  },
  {
   "cell_type": "code",
   "execution_count": 4,
   "metadata": {},
   "outputs": [
    {
     "name": "stdout",
     "output_type": "stream",
     "text": [
      "[1, 1.0, 1.0]\n"
     ]
    },
    {
     "data": {
      "image/png": "[encoded data removed]",
      "text/plain": [
       "<Figure size 640x480 with 1 Axes>"
      ]
     },
     "metadata": {},
     "output_type": "display_data"
    }
   ],
   "source": [
    "plt.stairs(hist1+hist2, bins, baseline=hist2, fill = True)\n",
    "plt.stairs(hist2, bins, fill=True)\n",
    "plt.stairs(hist2-hist1, bins, fill=True)\n",
    "\n",
    "\n",
    "initial_parameters = model.config.suggested_init()\n",
    "initial_parameters[0] = 1\n",
    "# initial_parameters[1] = 1\n",
    "\n",
    "plt.stairs(model.expected_data(initial_parameters, include_auxdata=False), bins, linewidth=2, color='r')\n",
    "# plt.errorbar(bin_cents, model.config.auxdata, yerr=np.sqrt(model.config.auxdata), fmt='o')\n",
    "print(initial_parameters)\n"
   ]
  },
  {
   "cell_type": "markdown",
   "metadata": {},
   "source": [
    "# Correlations within sample"
   ]
  },
  {
   "cell_type": "code",
   "execution_count": 5,
   "metadata": {},
   "outputs": [],
   "source": [
    "# add correlated parameters to pyhf model\n",
    "samples = [\n",
    "    {\n",
    "        \"name\": \"sample1\",\n",
    "        \"data\": list(hist2),\n",
    "        \"modifiers\": [\n",
    "            {\"name\": \"mu\", \"type\": \"normfactor\", \"data\" : None},\n",
    "            {\n",
    "                \"name\": \"u1\",\n",
    "                \"type\": \"histosys\",\n",
    "                \"data\": {\n",
    "                    \"lo_data\": list(hist2-hist1),\n",
    "                    \"hi_data\": list(hist2+hist1)\n",
    "                }\n",
    "            },\n",
    "            {\n",
    "                \"name\": \"u2\",\n",
    "                \"type\": \"histosys\",\n",
    "                \"data\": {\n",
    "                    \"lo_data\": list(hist2-hist2),\n",
    "                    \"hi_data\": list(hist2+hist2)\n",
    "                }\n",
    "            }\n",
    "        ],\n",
    "        \n",
    "    },\n",
    "]\n",
    "spec = {\"channels\" : [{\"name\" : \"singlechannel\", \"samples\" : samples}]}\n",
    "model = pyhf.Model(spec)\n"
   ]
  },
  {
   "cell_type": "code",
   "execution_count": 6,
   "metadata": {},
   "outputs": [
    {
     "name": "stdout",
     "output_type": "stream",
     "text": [
      "correlation found\n"
     ]
    },
    {
     "name": "stderr",
     "output_type": "stream",
     "text": [
      "/filer/z-sv-pool12c/l/Lorenz.Gaertner/pyhf-corr/src/pyhfcorr/decorrelate.py:102: UserWarning: Modifier corr[1] is redundant and is not added.\n",
      "  warnings.warn(f\"Modifier {name} is redundant and is not added.\")\n"
     ]
    },
    {
     "data": {
      "text/plain": [
       "{'channels': [{'name': 'singlechannel',\n",
       "   'samples': [{'name': 'sample1',\n",
       "     'data': [3.0, 6.0, 9.0, 12.0, 15.0, 9.0, 6.0, 3.0, 3.3, 2.15],\n",
       "     'modifiers': [{'name': 'mu', 'type': 'normfactor', 'data': None},\n",
       "      {'type': 'histosys',\n",
       "       'data': {'lo_data': [-1.5,\n",
       "         -3.0,\n",
       "         -6.0,\n",
       "         -7.5,\n",
       "         -6.300000000000001,\n",
       "         -6.6,\n",
       "         -5.5,\n",
       "         -2.5,\n",
       "         -3.0,\n",
       "         -1.5],\n",
       "        'hi_data': [7.5, 15.0, 24.0, 31.5, 36.3, 24.6, 17.5, 8.5, 9.6, 5.8]},\n",
       "       'name': 'corr[0]'}]}]}]}"
      ]
     },
     "execution_count": 6,
     "metadata": {},
     "output_type": "execute_result"
    }
   ],
   "source": [
    "spec = {\n",
    "    \"channels\" : [{\"name\" : \"singlechannel\", \"samples\" : samples}], \n",
    "    \"correlations\": [\n",
    "        {\n",
    "            \"name\": \"corr\",\n",
    "            \"vars\": [\"u1\", \"u2\"],\n",
    "            \"corr\": [[1., 1.], [1., 1.]],\n",
    "        }\n",
    "    ]}\n",
    "new_spec = decorrelate.decorrelate(spec)\n",
    "new_model = pyhf.Model(new_spec)\n",
    "new_spec"
   ]
  },
  {
   "cell_type": "code",
   "execution_count": 7,
   "metadata": {},
   "outputs": [
    {
     "data": {
      "text/plain": [
       "{'corr[0]': {'slice': slice(0, 1, None),\n",
       "  'paramset': <pyhf.parameters.paramsets.constrained_by_normal at 0x149499535d80>},\n",
       " 'mu': {'slice': slice(1, 2, None),\n",
       "  'paramset': <pyhf.parameters.paramsets.unconstrained at 0x1494995376a0>}}"
      ]
     },
     "execution_count": 7,
     "metadata": {},
     "output_type": "execute_result"
    }
   ],
   "source": [
    "new_model.config.par_map"
   ]
  },
  {
   "cell_type": "code",
   "execution_count": 8,
   "metadata": {},
   "outputs": [
    {
     "data": {
      "text/plain": [
       "<matplotlib.legend.Legend at 0x1494995d9c90>"
      ]
     },
     "execution_count": 8,
     "metadata": {},
     "output_type": "execute_result"
    },
    {
     "data": {
      "image/png": "[encoded data removed]",
      "text/plain": [
       "<Figure size 640x480 with 1 Axes>"
      ]
     },
     "metadata": {},
     "output_type": "display_data"
    }
   ],
   "source": [
    "plt.stairs(hist2+hist1+hist2, bins, fill = True, label = 'up up')\n",
    "plt.stairs(hist2+hist2, bins, fill = True, label = '-- up')\n",
    "plt.stairs(hist2+hist1, bins, fill = True, label = 'up --')\n",
    "plt.stairs(hist2, bins, fill=True, label = '-- --')\n",
    "plt.stairs(hist2-hist1, bins, fill=True, label = 'dn --')\n",
    "plt.stairs(hist2-hist2, bins, fill=True, label = '-- dn')\n",
    "plt.stairs(hist2-hist1-hist2, bins, fill=True, label = 'dn dn')\n",
    "\n",
    "initial_parameters = new_model.config.suggested_init()\n",
    "initial_parameters[0] = -1.\n",
    "\n",
    "plt.stairs(new_model.expected_data(initial_parameters, include_auxdata=False), bins, linewidth=2, color='r')\n",
    "\n",
    "plt.legend()"
   ]
  },
  {
   "cell_type": "markdown",
   "metadata": {},
   "source": [
    "# Correlations across samples"
   ]
  },
  {
   "cell_type": "code",
   "execution_count": 9,
   "metadata": {},
   "outputs": [],
   "source": [
    "# add correlated parameters to pyhf model\n",
    "samples = [\n",
    "    {\n",
    "        \"name\": \"sample1\",\n",
    "        \"data\": list(hist1),\n",
    "        \"modifiers\": [\n",
    "            {\"name\": \"mu\", \"type\": \"normfactor\", \"data\" : None},\n",
    "            {\n",
    "                \"name\": \"u1\",\n",
    "                \"type\": \"histosys\",\n",
    "                \"data\": {\n",
    "                    \"lo_data\": list(hist1-hist1),\n",
    "                    \"hi_data\": list(hist1+hist1)\n",
    "                }\n",
    "            },\n",
    "            {\n",
    "                \"name\": \"u12\",\n",
    "                \"type\": \"histosys\",\n",
    "                \"data\": {\n",
    "                    \"lo_data\": list(hist1-hist2),\n",
    "                    \"hi_data\": list(hist1+hist2)\n",
    "                }\n",
    "            }\n",
    "        ],\n",
    "        \n",
    "    },    \n",
    "    {\n",
    "        \"name\": \"sample2\",\n",
    "        \"data\": list(hist2),\n",
    "        \"modifiers\": [\n",
    "            {\n",
    "                \"name\": \"u1\",\n",
    "                \"type\": \"histosys\",\n",
    "                \"data\": {\n",
    "                    \"lo_data\": list(hist2-hist1),\n",
    "                    \"hi_data\": list(hist2+hist1)\n",
    "                }\n",
    "            }\n",
    "        ],\n",
    "        \n",
    "    },\n",
    "    \n",
    "]\n",
    "spec = {\"channels\" : [{\"name\" : \"corrchannel\", \"samples\" : samples}]}\n",
    "model = pyhf.Model(spec)\n"
   ]
  },
  {
   "cell_type": "code",
   "execution_count": 10,
   "metadata": {},
   "outputs": [
    {
     "name": "stdout",
     "output_type": "stream",
     "text": [
      "correlation found\n"
     ]
    },
    {
     "data": {
      "text/plain": [
       "{'channels': [{'name': 'singlechannel',\n",
       "   'samples': [{'name': 'sample1',\n",
       "     'data': [1.5, 3.0, 6.0, 7.5, 6.3, 6.6, 5.5, 2.5, 3.0, 1.5],\n",
       "     'modifiers': [{'name': 'mu', 'type': 'normfactor', 'data': None},\n",
       "      {'type': 'histosys',\n",
       "       'data': {'lo_data': [-3.0,\n",
       "         -6.0,\n",
       "         -9.0,\n",
       "         -12.0,\n",
       "         -15.0,\n",
       "         -9.0,\n",
       "         -6.0,\n",
       "         -3.0,\n",
       "         -3.3,\n",
       "         -2.15],\n",
       "        'hi_data': [6.0, 12.0, 21.0, 27.0, 27.6, 22.2, 17.0, 8.0, 9.3, 5.15]},\n",
       "       'name': 'corr[0]'}]},\n",
       "    {'name': 'sample2',\n",
       "     'data': [3.0, 6.0, 9.0, 12.0, 15.0, 9.0, 6.0, 3.0, 3.3, 2.15],\n",
       "     'modifiers': [{'type': 'histosys',\n",
       "       'data': {'lo_data': [1.5,\n",
       "         3.0,\n",
       "         3.0,\n",
       "         4.5,\n",
       "         8.7,\n",
       "         2.4000000000000004,\n",
       "         0.5,\n",
       "         0.5,\n",
       "         0.2999999999999998,\n",
       "         0.6499999999999999],\n",
       "        'hi_data': [4.5, 9.0, 15.0, 19.5, 21.3, 15.6, 11.5, 5.5, 6.3, 3.65]},\n",
       "       'name': 'corr[0]'}]}]}]}"
      ]
     },
     "execution_count": 10,
     "metadata": {},
     "output_type": "execute_result"
    }
   ],
   "source": [
    "# spec = {\n",
    "#     \"channels\" : [{\"name\" : \"singlechannel\", \"samples\" : samples}], \n",
    "#     \"correlations\": [\n",
    "#         {\n",
    "#             \"name\": \"corr\",\n",
    "#             \"vars\": [\"u1\", \"u2\", \"u12\"],\n",
    "#             \"corr\": [[1., 1., 1.], [1., 1., 1.], [1., 1., 1.]],\n",
    "#         }\n",
    "#     ]}\n",
    "\n",
    "spec = {\n",
    "    \"channels\" : [{\"name\" : \"singlechannel\", \"samples\" : samples}], \n",
    "    \"correlations\": [\n",
    "        {\n",
    "            \"name\": \"corr\",\n",
    "            \"vars\": [\"u1\", \"u12\"],\n",
    "            \"corr\": [[1., 1.], [1., 1.]],\n",
    "        }\n",
    "    ]}\n",
    "\n",
    "new_spec = decorrelate.decorrelate(spec)\n",
    "new_model = pyhf.Model(new_spec)\n",
    "new_spec"
   ]
  },
  {
   "cell_type": "code",
   "execution_count": 11,
   "metadata": {},
   "outputs": [
    {
     "data": {
      "text/plain": [
       "<matplotlib.legend.Legend at 0x1494994551b0>"
      ]
     },
     "execution_count": 11,
     "metadata": {},
     "output_type": "execute_result"
    },
    {
     "data": {
      "image/png": "[encoded data removed]",
      "text/plain": [
       "<Figure size 640x480 with 1 Axes>"
      ]
     },
     "metadata": {},
     "output_type": "display_data"
    }
   ],
   "source": [
    "plt.stairs(hist2 + hist1 + hist1 + hist1 + hist2, bins, fill = True, label = 'up up')\n",
    "# plt.stairs(hist2+hist2, bins, fill = True, label = '-- up')\n",
    "plt.stairs(hist2 + hist1, bins, fill = True, label = 'nom')\n",
    "# plt.stairs(hist2, bins, fill=True, label = '-- --')\n",
    "plt.stairs(hist2 - hist1 + hist1 - hist1 - hist2, bins, fill=True, label = 'dn dn')\n",
    "# plt.stairs(hist2-hist2, bins, fill=True, label = '-- dn')\n",
    "# plt.stairs(hist2-hist1-hist2, bins, fill=True, label = 'dn dn')\n",
    "\n",
    "initial_parameters = new_model.config.suggested_init()\n",
    "initial_parameters[0] = 1.\n",
    "\n",
    "plt.stairs(new_model.expected_data(initial_parameters, include_auxdata=False), bins, linewidth=2, color='r')\n",
    "\n",
    "plt.legend()"
   ]
  },
  {
   "cell_type": "markdown",
   "metadata": {},
   "source": [
    "# shapesys"
   ]
  },
  {
   "cell_type": "code",
   "execution_count": 12,
   "metadata": {},
   "outputs": [
    {
     "name": "stdout",
     "output_type": "stream",
     "text": [
      "correlation found\n"
     ]
    },
    {
     "data": {
      "text/plain": [
       "{'channels': [{'name': 'singlechannel',\n",
       "   'samples': [{'name': 'sample1',\n",
       "     'data': [3.0, 6.0, 9.0, 12.0, 15.0, 9.0, 6.0, 3.0, 3.3, 2.15],\n",
       "     'modifiers': [{'name': 'mu', 'type': 'normfactor', 'data': None},\n",
       "      {'type': 'shapesys',\n",
       "       'data': array([ 4.5 ,  9.  , 15.  , 19.5 , 21.3 , 15.6 , 11.5 ,  5.5 ,  6.3 ,\n",
       "               3.65]),\n",
       "       'name': 'corr[0]'}]}]}]}"
      ]
     },
     "execution_count": 12,
     "metadata": {},
     "output_type": "execute_result"
    }
   ],
   "source": [
    "samples = [\n",
    "    {\n",
    "        \"name\": \"sample1\",\n",
    "        \"data\": list(hist2),\n",
    "        \"modifiers\": [\n",
    "            {\"name\": \"mu\", \"type\": \"normfactor\", \"data\" : None},\n",
    "            {\n",
    "                \"name\": \"u1\",\n",
    "                \"type\": \"shapesys\",\n",
    "                \"data\": list(hist1)\n",
    "            },\n",
    "            {\n",
    "                \"name\": \"u2\",\n",
    "                \"type\": \"shapesys\",\n",
    "                \"data\": list(hist2)\n",
    "            }\n",
    "        ],\n",
    "        \n",
    "    },\n",
    "]\n",
    "\n",
    "spec = {\n",
    "\"channels\" : [{\"name\" : \"singlechannel\", \"samples\" : samples}], \n",
    "\"correlations\": [\n",
    "    {\n",
    "        \"name\": \"corr\",\n",
    "        \"vars\": [\"u1\", \"u2\"],\n",
    "        \"corr\": [[1., 1.], [1., 1.]],\n",
    "    }\n",
    "]}\n",
    "\n",
    "new_spec = decorrelate.decorrelate(spec)\n",
    "new_model = pyhf.Model(new_spec)\n",
    "new_spec"
   ]
  },
  {
   "cell_type": "code",
   "execution_count": 13,
   "metadata": {},
   "outputs": [
    {
     "data": {
      "text/plain": [
       "[0.4444444444444444,\n",
       " 0.4444444444444444,\n",
       " 0.36,\n",
       " 0.37869822485207105,\n",
       " 0.4959333465582225,\n",
       " 0.3328402366863906,\n",
       " 0.2722117202268431,\n",
       " 0.29752066115702475,\n",
       " 0.2743764172335601,\n",
       " 0.34696941264777637]"
      ]
     },
     "execution_count": 13,
     "metadata": {},
     "output_type": "execute_result"
    }
   ],
   "source": [
    "list((hist2 / (hist1+hist2)) ** 2)"
   ]
  },
  {
   "cell_type": "code",
   "execution_count": 14,
   "metadata": {},
   "outputs": [
    {
     "data": {
      "text/plain": [
       "[0.4444444444444444,\n",
       " 0.4444444444444444,\n",
       " 0.36,\n",
       " 0.378698224852071,\n",
       " 0.4959333465582225,\n",
       " 0.33284023668639057,\n",
       " 0.2722117202268431,\n",
       " 0.2975206611570248,\n",
       " 0.2743764172335601,\n",
       " 0.3469694126477763]"
      ]
     },
     "execution_count": 14,
     "metadata": {},
     "output_type": "execute_result"
    }
   ],
   "source": [
    "new_model.config.auxdata[:10]"
   ]
  },
  {
   "cell_type": "markdown",
   "metadata": {},
   "source": [
    "# normsys"
   ]
  },
  {
   "cell_type": "code",
   "execution_count": 15,
   "metadata": {},
   "outputs": [
    {
     "name": "stdout",
     "output_type": "stream",
     "text": [
      "correlation found\n"
     ]
    },
    {
     "data": {
      "text/plain": [
       "{'channels': [{'name': 'singlechannel',\n",
       "   'samples': [{'name': 'sample1',\n",
       "     'data': [3.0, 6.0, 9.0, 12.0, 15.0, 9.0, 6.0, 3.0, 3.3, 2.15],\n",
       "     'modifiers': [{'name': 'mu', 'type': 'normfactor', 'data': None},\n",
       "      {'type': 'normsys',\n",
       "       'data': {'lo': 0.5, 'hi': 5.0},\n",
       "       'name': 'corr[0]'}]}]}]}"
      ]
     },
     "execution_count": 15,
     "metadata": {},
     "output_type": "execute_result"
    }
   ],
   "source": [
    "samples = [\n",
    "    {\n",
    "        \"name\": \"sample1\",\n",
    "        \"data\": list(hist2),\n",
    "        \"modifiers\": [\n",
    "            {\"name\": \"mu\", \"type\": \"normfactor\", \"data\" : None},\n",
    "            {\n",
    "                \"name\": \"u1\",\n",
    "                \"type\": \"normsys\",\n",
    "                \"data\": {\"hi\": 2., \"lo\": 0.}\n",
    "            },\n",
    "            {\n",
    "                \"name\": \"u2\",\n",
    "                \"type\": \"normsys\",\n",
    "                \"data\": {\"hi\": 3., \"lo\": 0.5}\n",
    "            }\n",
    "        ],\n",
    "        \n",
    "    },\n",
    "]\n",
    "\n",
    "spec = {\n",
    "\"channels\" : [{\"name\" : \"singlechannel\", \"samples\" : samples}], \n",
    "\"correlations\": [\n",
    "    {\n",
    "        \"name\": \"corr\",\n",
    "        \"vars\": [\"u1\", \"u2\"],\n",
    "        \"corr\": [[1., 1.], [1., 1.]],\n",
    "    }\n",
    "]}\n",
    "\n",
    "new_spec = decorrelate.decorrelate(spec)\n",
    "new_model = pyhf.Model(new_spec)\n",
    "new_spec"
   ]
  },
  {
   "cell_type": "code",
   "execution_count": 16,
   "metadata": {},
   "outputs": [
    {
     "data": {
      "text/plain": [
       "array([1.5  , 3.   , 4.5  , 6.   , 7.5  , 4.5  , 3.   , 1.5  , 1.65 ,\n",
       "       1.075])"
      ]
     },
     "execution_count": 16,
     "metadata": {},
     "output_type": "execute_result"
    }
   ],
   "source": [
    "initial_parameters = new_model.config.suggested_init()\n",
    "initial_parameters[1] = -1\n",
    "\n",
    "new_model.expected_data(initial_parameters, include_auxdata=False)"
   ]
  },
  {
   "cell_type": "code",
   "execution_count": 17,
   "metadata": {},
   "outputs": [
    {
     "name": "stdout",
     "output_type": "stream",
     "text": [
      "correlation found\n"
     ]
    },
    {
     "data": {
      "text/plain": [
       "{'channels': [{'name': 'singlechannel',\n",
       "   'samples': [{'name': 'sample1',\n",
       "     'data': [1.5, 3.0, 6.0, 7.5, 6.3, 6.6, 5.5, 2.5, 3.0, 1.5],\n",
       "     'modifiers': [{'name': 'mu', 'type': 'normfactor', 'data': None},\n",
       "      {'type': 'normsys', 'data': {'lo': 0.5, 'hi': 5.0}, 'name': 'corr[0]'}]},\n",
       "    {'name': 'sample2',\n",
       "     'data': [3.0, 6.0, 9.0, 12.0, 15.0, 9.0, 6.0, 3.0, 3.3, 2.15],\n",
       "     'modifiers': [{'type': 'normsys',\n",
       "       'data': {'lo': 1.0, 'hi': 4.0},\n",
       "       'name': 'corr[0]'}]}]}]}"
      ]
     },
     "execution_count": 17,
     "metadata": {},
     "output_type": "execute_result"
    }
   ],
   "source": [
    "samples = [\n",
    "    {\n",
    "        \"name\": \"sample1\",\n",
    "        \"data\": list(hist1),\n",
    "        \"modifiers\": [\n",
    "            {\"name\": \"mu\", \"type\": \"normfactor\", \"data\" : None},\n",
    "            {\n",
    "                \"name\": \"u1\",\n",
    "                \"type\": \"normsys\",\n",
    "                \"data\": {\"hi\": 2., \"lo\": 0.}\n",
    "            },\n",
    "            {\n",
    "                \"name\": \"u12\",\n",
    "                \"type\": \"normsys\",\n",
    "                \"data\": {\"hi\": 3., \"lo\": 0.5}\n",
    "            }\n",
    "        ],\n",
    "        \n",
    "    },    \n",
    "    {\n",
    "        \"name\": \"sample2\",\n",
    "        \"data\": list(hist2),\n",
    "        \"modifiers\": [\n",
    "            {\n",
    "                \"name\": \"u1\",\n",
    "                \"type\": \"normsys\",\n",
    "                \"data\": {\"hi\": 4., \"lo\": 1.}\n",
    "            },\n",
    "        ],\n",
    "        \n",
    "    },\n",
    "]\n",
    "\n",
    "spec = {\n",
    "    \"channels\" : [{\"name\" : \"singlechannel\", \"samples\" : samples}], \n",
    "    \"correlations\": [\n",
    "        {\n",
    "            \"name\": \"corr\",\n",
    "            \"vars\": [\"u1\", \"u12\"],\n",
    "            \"corr\": [[1., 1.], [1., 1.]],\n",
    "        }\n",
    "    ]}\n",
    "\n",
    "\n",
    "new_spec = decorrelate.decorrelate(spec)\n",
    "new_model = pyhf.Model(new_spec)\n",
    "new_spec"
   ]
  },
  {
   "cell_type": "code",
   "execution_count": 18,
   "metadata": {},
   "outputs": [
    {
     "data": {
      "text/plain": [
       "array([ 3.75,  7.5 , 12.  , 15.75, 18.15, 12.3 ,  8.75,  4.25,  4.8 ,\n",
       "        2.9 ])"
      ]
     },
     "execution_count": 18,
     "metadata": {},
     "output_type": "execute_result"
    }
   ],
   "source": [
    "initial_parameters = new_model.config.suggested_init()\n",
    "initial_parameters[1] = -1\n",
    "\n",
    "new_model.expected_data(initial_parameters, include_auxdata=False)"
   ]
  },
  {
   "cell_type": "code",
   "execution_count": 19,
   "metadata": {},
   "outputs": [
    {
     "data": {
      "text/plain": [
       "array([ 3.75,  7.5 , 12.  , 15.75, 18.15, 12.3 ,  8.75,  4.25,  4.8 ,\n",
       "        2.9 ])"
      ]
     },
     "execution_count": 19,
     "metadata": {},
     "output_type": "execute_result"
    }
   ],
   "source": [
    "0.5*hist1 + hist2"
   ]
  },
  {
   "cell_type": "markdown",
   "metadata": {},
   "source": [
    "# staterror"
   ]
  },
  {
   "cell_type": "code",
   "execution_count": 20,
   "metadata": {},
   "outputs": [
    {
     "name": "stdout",
     "output_type": "stream",
     "text": [
      "correlation found\n"
     ]
    },
    {
     "data": {
      "text/plain": [
       "{'channels': [{'name': 'singlechannel',\n",
       "   'samples': [{'name': 'sample1',\n",
       "     'data': [3.0, 6.0, 9.0, 12.0, 15.0, 9.0, 6.0, 3.0, 3.3, 2.15],\n",
       "     'modifiers': [{'name': 'mu', 'type': 'normfactor', 'data': None},\n",
       "      {'type': 'staterror',\n",
       "       'data': array([ 3.35410197,  6.70820393, 10.81665383, 14.1509717 , 16.26929624,\n",
       "              11.16064514,  8.1394103 ,  3.90512484,  4.45982062,  2.62154535]),\n",
       "       'name': 'corr[0]'}]}]}]}"
      ]
     },
     "execution_count": 20,
     "metadata": {},
     "output_type": "execute_result"
    }
   ],
   "source": [
    "samples = [\n",
    "    {\n",
    "        \"name\": \"sample1\",\n",
    "        \"data\": list(hist2),\n",
    "        \"modifiers\": [\n",
    "            {\"name\": \"mu\", \"type\": \"normfactor\", \"data\" : None},\n",
    "            {\n",
    "                \"name\": \"u1\",\n",
    "                \"type\": \"staterror\",\n",
    "                \"data\": list(hist1)\n",
    "            },\n",
    "            {\n",
    "                \"name\": \"u2\",\n",
    "                \"type\": \"staterror\",\n",
    "                \"data\": list(hist2)\n",
    "            }\n",
    "    ],\n",
    "        \n",
    "    },\n",
    "]\n",
    "\n",
    "spec = {\n",
    "\"channels\" : [{\"name\" : \"singlechannel\", \"samples\" : samples}], \n",
    "\"correlations\": [\n",
    "    {\n",
    "        \"name\": \"corr\",\n",
    "        \"vars\": [\"u1\", \"u2\"],\n",
    "        \"corr\": [[1., 1.], [1., 1.]],\n",
    "    }\n",
    "]}\n",
    "\n",
    "new_spec = decorrelate.decorrelate(spec)\n",
    "new_model = pyhf.Model(new_spec)\n",
    "new_spec"
   ]
  },
  {
   "cell_type": "code",
   "execution_count": 21,
   "metadata": {},
   "outputs": [
    {
     "data": {
      "text/plain": [
       "[1.118033988749895,\n",
       " 1.118033988749895,\n",
       " 1.2018504251546631,\n",
       " 1.1792476415070754,\n",
       " 1.0846197490364997,\n",
       " 1.240071682515885,\n",
       " 1.3565683830083088,\n",
       " 1.3017082793177757,\n",
       " 1.3514607952107733,\n",
       " 1.2193234166435656]"
      ]
     },
     "execution_count": 21,
     "metadata": {},
     "output_type": "execute_result"
    }
   ],
   "source": [
    "new_model.config.param_set(\"corr[0]\").width()"
   ]
  },
  {
   "cell_type": "code",
   "execution_count": 22,
   "metadata": {},
   "outputs": [
    {
     "data": {
      "text/plain": [
       "array([1.11803399, 1.11803399, 1.20185043, 1.17924764, 1.08461975,\n",
       "       1.24007168, 1.35656838, 1.30170828, 1.3514608 , 1.21932342])"
      ]
     },
     "execution_count": 22,
     "metadata": {},
     "output_type": "execute_result"
    }
   ],
   "source": [
    "list(np.sqrt(hist1**2 + hist2**2))/(hist2)"
   ]
  },
  {
   "cell_type": "code",
   "execution_count": 23,
   "metadata": {},
   "outputs": [
    {
     "name": "stdout",
     "output_type": "stream",
     "text": [
      "correlation found\n"
     ]
    },
    {
     "data": {
      "text/plain": [
       "{'channels': [{'name': 'singlechannel',\n",
       "   'samples': [{'name': 'sample1',\n",
       "     'data': [1.5, 3.0, 6.0, 7.5, 6.3, 6.6, 5.5, 2.5, 3.0, 1.5],\n",
       "     'modifiers': [{'name': 'mu', 'type': 'normfactor', 'data': None},\n",
       "      {'type': 'staterror',\n",
       "       'data': array([1.5, 3. , 6. , 7.5, 6.3, 6.6, 5.5, 2.5, 3. , 1.5]),\n",
       "       'name': 'corr[0]'}]},\n",
       "    {'name': 'sample2',\n",
       "     'data': [3.0, 6.0, 9.0, 12.0, 15.0, 9.0, 6.0, 3.0, 3.3, 2.15],\n",
       "     'modifiers': [{'type': 'staterror',\n",
       "       'data': array([ 3.  ,  6.  ,  9.  , 12.  , 15.  ,  9.  ,  6.  ,  3.  ,  3.3 ,\n",
       "               2.15]),\n",
       "       'name': 'corr[0]'}]}]}]}"
      ]
     },
     "execution_count": 23,
     "metadata": {},
     "output_type": "execute_result"
    }
   ],
   "source": [
    "samples = [\n",
    "    {\n",
    "        \"name\": \"sample1\",\n",
    "        \"data\": list(hist1),\n",
    "        \"modifiers\": [\n",
    "            {\"name\": \"mu\", \"type\": \"normfactor\", \"data\" : None},\n",
    "            {\n",
    "                \"name\": \"u1\",                        # same name\n",
    "                \"type\": \"staterror\",\n",
    "                \"data\" : list(hist1)                       # absolute yield uncertainties in each bin (Poisson error)\n",
    "            }\n",
    "        ],\n",
    "    },\n",
    "    {\n",
    "        \"name\": \"sample2\",\n",
    "        \"data\": list(hist2),\n",
    "        \"modifiers\": [\n",
    "            # {\"name\": \"mu2\", \"type\": \"normfactor\", \"data\" : None},\n",
    "            {\n",
    "                \"name\": \"u2\",                        # same name\n",
    "                \"type\": \"staterror\",\n",
    "                \"data\" : list(hist2)                       # absolute yield uncertainties in each bin (Poisson error)\n",
    "            }\n",
    "        ],\n",
    "    },\n",
    "]\n",
    "\n",
    "spec = {\n",
    "\"channels\" : [{\"name\" : \"singlechannel\", \"samples\" : samples}], \n",
    "\"correlations\": [\n",
    "    {\n",
    "        \"name\": \"corr\",\n",
    "        \"vars\": [\"u1\", \"u2\"],\n",
    "        \"corr\": [[1., 1.], [1., 1.]],\n",
    "    }\n",
    "]}\n",
    "\n",
    "new_spec = decorrelate.decorrelate(spec)\n",
    "new_model = pyhf.Model(new_spec)\n",
    "new_spec"
   ]
  },
  {
   "cell_type": "code",
   "execution_count": 24,
   "metadata": {},
   "outputs": [
    {
     "data": {
      "text/plain": [
       "[0.7453559924999299,\n",
       " 0.7453559924999299,\n",
       " 0.7211102550927979,\n",
       " 0.7256908563120464,\n",
       " 0.7638167246735915,\n",
       " 0.7154259706822413,\n",
       " 0.7077748085260742,\n",
       " 0.7100226978096957,\n",
       " 0.7079080355865955,\n",
       " 0.718231601584566]"
      ]
     },
     "execution_count": 24,
     "metadata": {},
     "output_type": "execute_result"
    }
   ],
   "source": [
    "new_model.config.param_set(\"corr[0]\").width()"
   ]
  },
  {
   "cell_type": "code",
   "execution_count": 25,
   "metadata": {},
   "outputs": [
    {
     "data": {
      "text/plain": [
       "[0.7453559924999299,\n",
       " 0.7453559924999299,\n",
       " 0.7211102550927979,\n",
       " 0.7256908563120464,\n",
       " 0.7638167246735914,\n",
       " 0.7154259706822413,\n",
       " 0.7077748085260742,\n",
       " 0.7100226978096958,\n",
       " 0.7079080355865955,\n",
       " 0.718231601584566]"
      ]
     },
     "execution_count": 25,
     "metadata": {},
     "output_type": "execute_result"
    }
   ],
   "source": [
    "list(np.sqrt(hist1**2 + hist2**2)/(hist1 + hist2))"
   ]
  },
  {
   "cell_type": "markdown",
   "metadata": {},
   "source": [
    "# lumi, normfactor, shapefactor"
   ]
  },
  {
   "cell_type": "code",
   "execution_count": 26,
   "metadata": {},
   "outputs": [
    {
     "name": "stdout",
     "output_type": "stream",
     "text": [
      "correlation found\n"
     ]
    },
    {
     "name": "stderr",
     "output_type": "stream",
     "text": [
      "/filer/z-sv-pool12c/l/Lorenz.Gaertner/pyhf-corr/src/pyhfcorr/decorrelate.py:83: UserWarning: Modifiers without data can only be full (de)correlated and should be treated with pyhf directly.\n",
      "  warnings.warn(\"Modifiers without data can only be full (de)correlated and should be treated with pyhf directly.\")\n"
     ]
    },
    {
     "data": {
      "text/plain": [
       "{'channels': [{'name': 'singlechannel',\n",
       "   'samples': [{'name': 'sample1',\n",
       "     'data': [3.0, 6.0, 9.0, 12.0, 15.0, 9.0, 6.0, 3.0, 3.3, 2.15],\n",
       "     'modifiers': [{'name': 'mu', 'type': 'normfactor', 'data': None},\n",
       "      {'name': 'u1', 'type': 'normfactor', 'data': None},\n",
       "      {'name': 'u2', 'type': 'normfactor', 'data': None}]}]}]}"
      ]
     },
     "execution_count": 26,
     "metadata": {},
     "output_type": "execute_result"
    }
   ],
   "source": [
    "samples = [\n",
    "    {\n",
    "        \"name\": \"sample1\",\n",
    "        \"data\": list(hist2),\n",
    "        \"modifiers\": [\n",
    "            {\"name\": \"mu\", \"type\": \"normfactor\", \"data\" : None},\n",
    "            {\n",
    "                \"name\": \"u1\",\n",
    "                \"type\": \"normfactor\",\n",
    "                \"data\": None\n",
    "            },\n",
    "            {\n",
    "                \"name\": \"u2\",\n",
    "                \"type\": \"normfactor\",\n",
    "                \"data\": None\n",
    "            }\n",
    "    ],\n",
    "        \n",
    "    },\n",
    "]\n",
    "\n",
    "# pyhf.Model(spec)\n",
    "\n",
    "spec = {\n",
    "\"channels\" : [{\"name\" : \"singlechannel\", \"samples\" : samples}], \n",
    "\"correlations\": [\n",
    "    {\n",
    "        \"name\": \"corr\",\n",
    "        \"vars\": [\"u1\", \"u2\"],\n",
    "        \"corr\": [[1., 1.], [1., 1.]],\n",
    "    }\n",
    "]}\n",
    "\n",
    "new_spec = decorrelate.decorrelate(spec)\n",
    "new_model = pyhf.Model(new_spec)\n",
    "new_spec"
   ]
  },
  {
   "cell_type": "code",
   "execution_count": 27,
   "metadata": {},
   "outputs": [
    {
     "name": "stdout",
     "output_type": "stream",
     "text": [
      "correlation found\n"
     ]
    },
    {
     "data": {
      "text/plain": [
       "{'channels': [{'name': 'singlechannel',\n",
       "   'samples': [{'name': 'sample1',\n",
       "     'data': [1.5, 3.0, 6.0, 7.5, 6.3, 6.6, 5.5, 2.5, 3.0, 1.5],\n",
       "     'modifiers': [{'name': 'mu', 'type': 'normfactor', 'data': None},\n",
       "      {'name': 'u1', 'type': 'normfactor', 'data': None}]},\n",
       "    {'name': 'sample2',\n",
       "     'data': [3.0, 6.0, 9.0, 12.0, 15.0, 9.0, 6.0, 3.0, 3.3, 2.15],\n",
       "     'modifiers': [{'name': 'u2', 'type': 'normfactor', 'data': None}]}]}]}"
      ]
     },
     "execution_count": 27,
     "metadata": {},
     "output_type": "execute_result"
    }
   ],
   "source": [
    "samples = [\n",
    "    {\n",
    "        \"name\": \"sample1\",\n",
    "        \"data\": list(hist1),\n",
    "        \"modifiers\": [\n",
    "            {\"name\": \"mu\", \"type\": \"normfactor\", \"data\" : None},\n",
    "            {\n",
    "                \"name\": \"u1\",                        # same name\n",
    "                \"type\": \"normfactor\",\n",
    "                \"data\" : None                       # absolute yield uncertainties in each bin (Poisson error)\n",
    "            }\n",
    "        ],\n",
    "    },\n",
    "    {\n",
    "        \"name\": \"sample2\",\n",
    "        \"data\": list(hist2),\n",
    "        \"modifiers\": [\n",
    "            # {\"name\": \"mu2\", \"type\": \"normfactor\", \"data\" : None},\n",
    "            {\n",
    "                \"name\": \"u2\",                        # same name\n",
    "                \"type\": \"normfactor\",\n",
    "                \"data\" : None                       # absolute yield uncertainties in each bin (Poisson error)\n",
    "            }\n",
    "        ],\n",
    "    },\n",
    "]\n",
    "\n",
    "spec = {\n",
    "\"channels\" : [{\"name\" : \"singlechannel\", \"samples\" : samples}], \n",
    "\"correlations\": [\n",
    "    {\n",
    "        \"name\": \"corr\",\n",
    "        \"vars\": [\"u1\", \"u2\"],\n",
    "        \"corr\": [[1., 1.], [1., 1.]],\n",
    "    }\n",
    "]}\n",
    "\n",
    "new_spec = decorrelate.decorrelate(spec)\n",
    "new_model = pyhf.Model(new_spec)\n",
    "new_spec"
   ]
  },
  {
   "cell_type": "code",
   "execution_count": null,
   "metadata": {},
   "outputs": [],
   "source": []
  }
 ],
 "metadata": {
  "kernelspec": {
   "display_name": "Python 3",
   "language": "python",
   "name": "python3"
  },
  "language_info": {
   "codemirror_mode": {
    "name": "ipython",
    "version": 3
   },
   "file_extension": ".py",
   "mimetype": "text/x-python",
   "name": "python",
   "nbconvert_exporter": "python",
   "pygments_lexer": "ipython3",
   "version": "3.10.0"
  }
 },
 "nbformat": 4,
 "nbformat_minor": 2
}
